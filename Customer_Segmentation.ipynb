{
  "cells": [
    {
      "cell_type": "markdown",
      "id": "hC8CEk9wji_d",
      "metadata": {
        "id": "hC8CEk9wji_d"
      },
      "source": [
        "# Problem Statement:\n",
        "Create a K-Means clustering algorithm to group  customer of a retail store  based on their puchase history\n",
        "\n",
        "# Dataset:\n",
        "\"https://www.kaggle.com/datasets/vjchoudhary7/customer-segmentation-tutorial-in-python?select=Mall_Customers.csv\""
      ]
    },
    {
      "cell_type": "markdown",
      "id": "106e9d98-4b71-44b1-bb03-042314eac904",
      "metadata": {
        "id": "106e9d98-4b71-44b1-bb03-042314eac904"
      },
      "source": [
        "# Importing Dependencies"
      ]
    },
    {
      "cell_type": "code",
      "execution_count": 1,
      "id": "9ca5f2f2-ef91-4a61-a72f-6d254d97e626",
      "metadata": {
        "id": "9ca5f2f2-ef91-4a61-a72f-6d254d97e626"
      },
      "outputs": [],
      "source": [
        "import pandas as pd\n",
        "import numpy as np\n",
        "import matplotlib.pyplot as plt\n",
        "import seaborn as sns\n",
        "from sklearn.cluster import KMeans\n",
        "from mpl_toolkits.mplot3d import Axes3D\n",
        "import plotly.express as px\n",
        "import plotly.graph_objects as go\n"
      ]
    },
    {
      "cell_type": "markdown",
      "id": "bf6561b1-4796-40fe-badc-a5d824edf6eb",
      "metadata": {
        "id": "bf6561b1-4796-40fe-badc-a5d824edf6eb"
      },
      "source": [
        "# Data Collection & Analysis"
      ]
    },
    {
      "cell_type": "code",
      "execution_count": 2,
      "id": "75cc27cd-31d0-4d3f-88d3-a736c7b2e1c8",
      "metadata": {
        "colab": {
          "base_uri": "https://localhost:8080/",
          "height": 206
        },
        "id": "75cc27cd-31d0-4d3f-88d3-a736c7b2e1c8",
        "outputId": "24ab899c-7fd0-4e3d-a12c-985a41b7c1b7"
      },
      "outputs": [
        {
          "data": {
            "text/html": [
              "<div>\n",
              "<style scoped>\n",
              "    .dataframe tbody tr th:only-of-type {\n",
              "        vertical-align: middle;\n",
              "    }\n",
              "\n",
              "    .dataframe tbody tr th {\n",
              "        vertical-align: top;\n",
              "    }\n",
              "\n",
              "    .dataframe thead th {\n",
              "        text-align: right;\n",
              "    }\n",
              "</style>\n",
              "<table border=\"1\" class=\"dataframe\">\n",
              "  <thead>\n",
              "    <tr style=\"text-align: right;\">\n",
              "      <th></th>\n",
              "      <th>CustomerID</th>\n",
              "      <th>Gender</th>\n",
              "      <th>Age</th>\n",
              "      <th>Annual Income (k$)</th>\n",
              "      <th>Spending Score (1-100)</th>\n",
              "    </tr>\n",
              "  </thead>\n",
              "  <tbody>\n",
              "    <tr>\n",
              "      <th>39</th>\n",
              "      <td>40</td>\n",
              "      <td>Female</td>\n",
              "      <td>20</td>\n",
              "      <td>37</td>\n",
              "      <td>75</td>\n",
              "    </tr>\n",
              "    <tr>\n",
              "      <th>189</th>\n",
              "      <td>190</td>\n",
              "      <td>Female</td>\n",
              "      <td>36</td>\n",
              "      <td>103</td>\n",
              "      <td>85</td>\n",
              "    </tr>\n",
              "    <tr>\n",
              "      <th>175</th>\n",
              "      <td>176</td>\n",
              "      <td>Female</td>\n",
              "      <td>30</td>\n",
              "      <td>88</td>\n",
              "      <td>86</td>\n",
              "    </tr>\n",
              "    <tr>\n",
              "      <th>120</th>\n",
              "      <td>121</td>\n",
              "      <td>Male</td>\n",
              "      <td>27</td>\n",
              "      <td>67</td>\n",
              "      <td>56</td>\n",
              "    </tr>\n",
              "    <tr>\n",
              "      <th>83</th>\n",
              "      <td>84</td>\n",
              "      <td>Female</td>\n",
              "      <td>46</td>\n",
              "      <td>54</td>\n",
              "      <td>44</td>\n",
              "    </tr>\n",
              "  </tbody>\n",
              "</table>\n",
              "</div>"
            ],
            "text/plain": [
              "     CustomerID  Gender  Age  Annual Income (k$)  Spending Score (1-100)\n",
              "39           40  Female   20                  37                      75\n",
              "189         190  Female   36                 103                      85\n",
              "175         176  Female   30                  88                      86\n",
              "120         121    Male   27                  67                      56\n",
              "83           84  Female   46                  54                      44"
            ]
          },
          "execution_count": 2,
          "metadata": {},
          "output_type": "execute_result"
        }
      ],
      "source": [
        "df = pd.read_csv(\"Customers.csv\")\n",
        "df.sample(5)"
      ]
    },
    {
      "cell_type": "code",
      "execution_count": 3,
      "id": "b65a506f-694d-4395-8f7f-a7e57f436c1f",
      "metadata": {
        "colab": {
          "base_uri": "https://localhost:8080/"
        },
        "id": "b65a506f-694d-4395-8f7f-a7e57f436c1f",
        "outputId": "51097209-137d-45da-eb0c-d043c6f9f0d5"
      },
      "outputs": [
        {
          "data": {
            "text/plain": [
              "(200, 5)"
            ]
          },
          "execution_count": 3,
          "metadata": {},
          "output_type": "execute_result"
        }
      ],
      "source": [
        "df.shape"
      ]
    },
    {
      "cell_type": "code",
      "execution_count": 4,
      "id": "42d94b85-a91d-4c2e-8837-37ffefb0e4b2",
      "metadata": {
        "colab": {
          "base_uri": "https://localhost:8080/"
        },
        "id": "42d94b85-a91d-4c2e-8837-37ffefb0e4b2",
        "outputId": "8a857a30-80d5-405d-a83c-7b0ea4babe2c"
      },
      "outputs": [
        {
          "name": "stdout",
          "output_type": "stream",
          "text": [
            "<class 'pandas.core.frame.DataFrame'>\n",
            "RangeIndex: 200 entries, 0 to 199\n",
            "Data columns (total 5 columns):\n",
            " #   Column                  Non-Null Count  Dtype \n",
            "---  ------                  --------------  ----- \n",
            " 0   CustomerID              200 non-null    int64 \n",
            " 1   Gender                  200 non-null    object\n",
            " 2   Age                     200 non-null    int64 \n",
            " 3   Annual Income (k$)      200 non-null    int64 \n",
            " 4   Spending Score (1-100)  200 non-null    int64 \n",
            "dtypes: int64(4), object(1)\n",
            "memory usage: 7.9+ KB\n"
          ]
        }
      ],
      "source": [
        "df.info()"
      ]
    },
    {
      "cell_type": "code",
      "execution_count": 5,
      "id": "N4PEF0fPi_b3",
      "metadata": {
        "colab": {
          "base_uri": "https://localhost:8080/",
          "height": 300
        },
        "id": "N4PEF0fPi_b3",
        "outputId": "9a509d59-a010-42fa-b429-f80bc80d25f9"
      },
      "outputs": [
        {
          "data": {
            "text/html": [
              "<div>\n",
              "<style scoped>\n",
              "    .dataframe tbody tr th:only-of-type {\n",
              "        vertical-align: middle;\n",
              "    }\n",
              "\n",
              "    .dataframe tbody tr th {\n",
              "        vertical-align: top;\n",
              "    }\n",
              "\n",
              "    .dataframe thead th {\n",
              "        text-align: right;\n",
              "    }\n",
              "</style>\n",
              "<table border=\"1\" class=\"dataframe\">\n",
              "  <thead>\n",
              "    <tr style=\"text-align: right;\">\n",
              "      <th></th>\n",
              "      <th>CustomerID</th>\n",
              "      <th>Age</th>\n",
              "      <th>Annual Income (k$)</th>\n",
              "      <th>Spending Score (1-100)</th>\n",
              "    </tr>\n",
              "  </thead>\n",
              "  <tbody>\n",
              "    <tr>\n",
              "      <th>count</th>\n",
              "      <td>200.000000</td>\n",
              "      <td>200.000000</td>\n",
              "      <td>200.000000</td>\n",
              "      <td>200.000000</td>\n",
              "    </tr>\n",
              "    <tr>\n",
              "      <th>mean</th>\n",
              "      <td>100.500000</td>\n",
              "      <td>38.850000</td>\n",
              "      <td>60.560000</td>\n",
              "      <td>50.200000</td>\n",
              "    </tr>\n",
              "    <tr>\n",
              "      <th>std</th>\n",
              "      <td>57.879185</td>\n",
              "      <td>13.969007</td>\n",
              "      <td>26.264721</td>\n",
              "      <td>25.823522</td>\n",
              "    </tr>\n",
              "    <tr>\n",
              "      <th>min</th>\n",
              "      <td>1.000000</td>\n",
              "      <td>18.000000</td>\n",
              "      <td>15.000000</td>\n",
              "      <td>1.000000</td>\n",
              "    </tr>\n",
              "    <tr>\n",
              "      <th>25%</th>\n",
              "      <td>50.750000</td>\n",
              "      <td>28.750000</td>\n",
              "      <td>41.500000</td>\n",
              "      <td>34.750000</td>\n",
              "    </tr>\n",
              "    <tr>\n",
              "      <th>50%</th>\n",
              "      <td>100.500000</td>\n",
              "      <td>36.000000</td>\n",
              "      <td>61.500000</td>\n",
              "      <td>50.000000</td>\n",
              "    </tr>\n",
              "    <tr>\n",
              "      <th>75%</th>\n",
              "      <td>150.250000</td>\n",
              "      <td>49.000000</td>\n",
              "      <td>78.000000</td>\n",
              "      <td>73.000000</td>\n",
              "    </tr>\n",
              "    <tr>\n",
              "      <th>max</th>\n",
              "      <td>200.000000</td>\n",
              "      <td>70.000000</td>\n",
              "      <td>137.000000</td>\n",
              "      <td>99.000000</td>\n",
              "    </tr>\n",
              "  </tbody>\n",
              "</table>\n",
              "</div>"
            ],
            "text/plain": [
              "       CustomerID         Age  Annual Income (k$)  Spending Score (1-100)\n",
              "count  200.000000  200.000000          200.000000              200.000000\n",
              "mean   100.500000   38.850000           60.560000               50.200000\n",
              "std     57.879185   13.969007           26.264721               25.823522\n",
              "min      1.000000   18.000000           15.000000                1.000000\n",
              "25%     50.750000   28.750000           41.500000               34.750000\n",
              "50%    100.500000   36.000000           61.500000               50.000000\n",
              "75%    150.250000   49.000000           78.000000               73.000000\n",
              "max    200.000000   70.000000          137.000000               99.000000"
            ]
          },
          "execution_count": 5,
          "metadata": {},
          "output_type": "execute_result"
        }
      ],
      "source": [
        "df.describe()"
      ]
    },
    {
      "cell_type": "code",
      "execution_count": 6,
      "id": "abe000e5-1611-40e0-8443-baa3876d0829",
      "metadata": {
        "colab": {
          "base_uri": "https://localhost:8080/",
          "height": 241
        },
        "id": "abe000e5-1611-40e0-8443-baa3876d0829",
        "outputId": "b2d9c45d-72c0-4227-d3d2-ce9efd4afb7d"
      },
      "outputs": [
        {
          "data": {
            "text/plain": [
              "CustomerID                0\n",
              "Gender                    0\n",
              "Age                       0\n",
              "Annual Income (k$)        0\n",
              "Spending Score (1-100)    0\n",
              "dtype: int64"
            ]
          },
          "execution_count": 6,
          "metadata": {},
          "output_type": "execute_result"
        }
      ],
      "source": [
        "# checking for missing values\n",
        "df.isnull().sum()"
      ]
    },
    {
      "cell_type": "code",
      "execution_count": 7,
      "id": "5cbd9ca8-c47c-483e-9e20-260cb1d0a409",
      "metadata": {
        "id": "5cbd9ca8-c47c-483e-9e20-260cb1d0a409"
      },
      "outputs": [],
      "source": [
        "# Taking out the customer id feature which is not important for the clustering\n",
        "X = df.iloc[:,2:].values"
      ]
    },
    {
      "cell_type": "code",
      "execution_count": 8,
      "id": "6da6a622-5c8e-4ca4-a6c4-f11e24376459",
      "metadata": {
        "colab": {
          "base_uri": "https://localhost:8080/"
        },
        "collapsed": true,
        "id": "6da6a622-5c8e-4ca4-a6c4-f11e24376459",
        "outputId": "3c91575d-ffab-4013-f885-229293d0aa0e"
      },
      "outputs": [
        {
          "data": {
            "text/plain": [
              "array([[ 19,  15,  39],\n",
              "       [ 21,  15,  81],\n",
              "       [ 20,  16,   6],\n",
              "       [ 23,  16,  77],\n",
              "       [ 31,  17,  40],\n",
              "       [ 22,  17,  76],\n",
              "       [ 35,  18,   6],\n",
              "       [ 23,  18,  94],\n",
              "       [ 64,  19,   3],\n",
              "       [ 30,  19,  72],\n",
              "       [ 67,  19,  14],\n",
              "       [ 35,  19,  99],\n",
              "       [ 58,  20,  15],\n",
              "       [ 24,  20,  77],\n",
              "       [ 37,  20,  13],\n",
              "       [ 22,  20,  79],\n",
              "       [ 35,  21,  35],\n",
              "       [ 20,  21,  66],\n",
              "       [ 52,  23,  29],\n",
              "       [ 35,  23,  98],\n",
              "       [ 35,  24,  35],\n",
              "       [ 25,  24,  73],\n",
              "       [ 46,  25,   5],\n",
              "       [ 31,  25,  73],\n",
              "       [ 54,  28,  14],\n",
              "       [ 29,  28,  82],\n",
              "       [ 45,  28,  32],\n",
              "       [ 35,  28,  61],\n",
              "       [ 40,  29,  31],\n",
              "       [ 23,  29,  87],\n",
              "       [ 60,  30,   4],\n",
              "       [ 21,  30,  73],\n",
              "       [ 53,  33,   4],\n",
              "       [ 18,  33,  92],\n",
              "       [ 49,  33,  14],\n",
              "       [ 21,  33,  81],\n",
              "       [ 42,  34,  17],\n",
              "       [ 30,  34,  73],\n",
              "       [ 36,  37,  26],\n",
              "       [ 20,  37,  75],\n",
              "       [ 65,  38,  35],\n",
              "       [ 24,  38,  92],\n",
              "       [ 48,  39,  36],\n",
              "       [ 31,  39,  61],\n",
              "       [ 49,  39,  28],\n",
              "       [ 24,  39,  65],\n",
              "       [ 50,  40,  55],\n",
              "       [ 27,  40,  47],\n",
              "       [ 29,  40,  42],\n",
              "       [ 31,  40,  42],\n",
              "       [ 49,  42,  52],\n",
              "       [ 33,  42,  60],\n",
              "       [ 31,  43,  54],\n",
              "       [ 59,  43,  60],\n",
              "       [ 50,  43,  45],\n",
              "       [ 47,  43,  41],\n",
              "       [ 51,  44,  50],\n",
              "       [ 69,  44,  46],\n",
              "       [ 27,  46,  51],\n",
              "       [ 53,  46,  46],\n",
              "       [ 70,  46,  56],\n",
              "       [ 19,  46,  55],\n",
              "       [ 67,  47,  52],\n",
              "       [ 54,  47,  59],\n",
              "       [ 63,  48,  51],\n",
              "       [ 18,  48,  59],\n",
              "       [ 43,  48,  50],\n",
              "       [ 68,  48,  48],\n",
              "       [ 19,  48,  59],\n",
              "       [ 32,  48,  47],\n",
              "       [ 70,  49,  55],\n",
              "       [ 47,  49,  42],\n",
              "       [ 60,  50,  49],\n",
              "       [ 60,  50,  56],\n",
              "       [ 59,  54,  47],\n",
              "       [ 26,  54,  54],\n",
              "       [ 45,  54,  53],\n",
              "       [ 40,  54,  48],\n",
              "       [ 23,  54,  52],\n",
              "       [ 49,  54,  42],\n",
              "       [ 57,  54,  51],\n",
              "       [ 38,  54,  55],\n",
              "       [ 67,  54,  41],\n",
              "       [ 46,  54,  44],\n",
              "       [ 21,  54,  57],\n",
              "       [ 48,  54,  46],\n",
              "       [ 55,  57,  58],\n",
              "       [ 22,  57,  55],\n",
              "       [ 34,  58,  60],\n",
              "       [ 50,  58,  46],\n",
              "       [ 68,  59,  55],\n",
              "       [ 18,  59,  41],\n",
              "       [ 48,  60,  49],\n",
              "       [ 40,  60,  40],\n",
              "       [ 32,  60,  42],\n",
              "       [ 24,  60,  52],\n",
              "       [ 47,  60,  47],\n",
              "       [ 27,  60,  50],\n",
              "       [ 48,  61,  42],\n",
              "       [ 20,  61,  49],\n",
              "       [ 23,  62,  41],\n",
              "       [ 49,  62,  48],\n",
              "       [ 67,  62,  59],\n",
              "       [ 26,  62,  55],\n",
              "       [ 49,  62,  56],\n",
              "       [ 21,  62,  42],\n",
              "       [ 66,  63,  50],\n",
              "       [ 54,  63,  46],\n",
              "       [ 68,  63,  43],\n",
              "       [ 66,  63,  48],\n",
              "       [ 65,  63,  52],\n",
              "       [ 19,  63,  54],\n",
              "       [ 38,  64,  42],\n",
              "       [ 19,  64,  46],\n",
              "       [ 18,  65,  48],\n",
              "       [ 19,  65,  50],\n",
              "       [ 63,  65,  43],\n",
              "       [ 49,  65,  59],\n",
              "       [ 51,  67,  43],\n",
              "       [ 50,  67,  57],\n",
              "       [ 27,  67,  56],\n",
              "       [ 38,  67,  40],\n",
              "       [ 40,  69,  58],\n",
              "       [ 39,  69,  91],\n",
              "       [ 23,  70,  29],\n",
              "       [ 31,  70,  77],\n",
              "       [ 43,  71,  35],\n",
              "       [ 40,  71,  95],\n",
              "       [ 59,  71,  11],\n",
              "       [ 38,  71,  75],\n",
              "       [ 47,  71,   9],\n",
              "       [ 39,  71,  75],\n",
              "       [ 25,  72,  34],\n",
              "       [ 31,  72,  71],\n",
              "       [ 20,  73,   5],\n",
              "       [ 29,  73,  88],\n",
              "       [ 44,  73,   7],\n",
              "       [ 32,  73,  73],\n",
              "       [ 19,  74,  10],\n",
              "       [ 35,  74,  72],\n",
              "       [ 57,  75,   5],\n",
              "       [ 32,  75,  93],\n",
              "       [ 28,  76,  40],\n",
              "       [ 32,  76,  87],\n",
              "       [ 25,  77,  12],\n",
              "       [ 28,  77,  97],\n",
              "       [ 48,  77,  36],\n",
              "       [ 32,  77,  74],\n",
              "       [ 34,  78,  22],\n",
              "       [ 34,  78,  90],\n",
              "       [ 43,  78,  17],\n",
              "       [ 39,  78,  88],\n",
              "       [ 44,  78,  20],\n",
              "       [ 38,  78,  76],\n",
              "       [ 47,  78,  16],\n",
              "       [ 27,  78,  89],\n",
              "       [ 37,  78,   1],\n",
              "       [ 30,  78,  78],\n",
              "       [ 34,  78,   1],\n",
              "       [ 30,  78,  73],\n",
              "       [ 56,  79,  35],\n",
              "       [ 29,  79,  83],\n",
              "       [ 19,  81,   5],\n",
              "       [ 31,  81,  93],\n",
              "       [ 50,  85,  26],\n",
              "       [ 36,  85,  75],\n",
              "       [ 42,  86,  20],\n",
              "       [ 33,  86,  95],\n",
              "       [ 36,  87,  27],\n",
              "       [ 32,  87,  63],\n",
              "       [ 40,  87,  13],\n",
              "       [ 28,  87,  75],\n",
              "       [ 36,  87,  10],\n",
              "       [ 36,  87,  92],\n",
              "       [ 52,  88,  13],\n",
              "       [ 30,  88,  86],\n",
              "       [ 58,  88,  15],\n",
              "       [ 27,  88,  69],\n",
              "       [ 59,  93,  14],\n",
              "       [ 35,  93,  90],\n",
              "       [ 37,  97,  32],\n",
              "       [ 32,  97,  86],\n",
              "       [ 46,  98,  15],\n",
              "       [ 29,  98,  88],\n",
              "       [ 41,  99,  39],\n",
              "       [ 30,  99,  97],\n",
              "       [ 54, 101,  24],\n",
              "       [ 28, 101,  68],\n",
              "       [ 41, 103,  17],\n",
              "       [ 36, 103,  85],\n",
              "       [ 34, 103,  23],\n",
              "       [ 32, 103,  69],\n",
              "       [ 33, 113,   8],\n",
              "       [ 38, 113,  91],\n",
              "       [ 47, 120,  16],\n",
              "       [ 35, 120,  79],\n",
              "       [ 45, 126,  28],\n",
              "       [ 32, 126,  74],\n",
              "       [ 32, 137,  18],\n",
              "       [ 30, 137,  83]], dtype=int64)"
            ]
          },
          "execution_count": 8,
          "metadata": {},
          "output_type": "execute_result"
        }
      ],
      "source": [
        "X"
      ]
    },
    {
      "cell_type": "markdown",
      "id": "0Lh_7ntiDWwq",
      "metadata": {
        "id": "0Lh_7ntiDWwq"
      },
      "source": [
        "# Data Visualization"
      ]
    },
    {
      "cell_type": "code",
      "execution_count": 9,
      "id": "qpPLKlwY_ABq",
      "metadata": {
        "colab": {
          "base_uri": "https://localhost:8080/",
          "height": 817
        },
        "id": "qpPLKlwY_ABq",
        "outputId": "871bfe7e-17df-4d78-d130-f5c022049d57"
      },
      "outputs": [
        {
          "data": {
            "application/vnd.plotly.v1+json": {
              "config": {
                "plotlyServerURL": "https://plot.ly"
              },
              "data": [
                {
                  "customdata": [
                    [
                      "Male"
                    ],
                    [
                      "Male"
                    ],
                    [
                      "Male"
                    ],
                    [
                      "Male"
                    ],
                    [
                      "Male"
                    ],
                    [
                      "Male"
                    ],
                    [
                      "Male"
                    ],
                    [
                      "Male"
                    ],
                    [
                      "Male"
                    ],
                    [
                      "Male"
                    ],
                    [
                      "Male"
                    ],
                    [
                      "Male"
                    ],
                    [
                      "Male"
                    ],
                    [
                      "Male"
                    ],
                    [
                      "Male"
                    ],
                    [
                      "Male"
                    ],
                    [
                      "Male"
                    ],
                    [
                      "Male"
                    ],
                    [
                      "Male"
                    ],
                    [
                      "Male"
                    ],
                    [
                      "Male"
                    ],
                    [
                      "Male"
                    ],
                    [
                      "Male"
                    ],
                    [
                      "Male"
                    ],
                    [
                      "Male"
                    ],
                    [
                      "Male"
                    ],
                    [
                      "Male"
                    ],
                    [
                      "Male"
                    ],
                    [
                      "Male"
                    ],
                    [
                      "Male"
                    ],
                    [
                      "Male"
                    ],
                    [
                      "Male"
                    ],
                    [
                      "Male"
                    ],
                    [
                      "Male"
                    ],
                    [
                      "Male"
                    ],
                    [
                      "Male"
                    ],
                    [
                      "Male"
                    ],
                    [
                      "Male"
                    ],
                    [
                      "Male"
                    ],
                    [
                      "Male"
                    ],
                    [
                      "Male"
                    ],
                    [
                      "Male"
                    ],
                    [
                      "Male"
                    ],
                    [
                      "Male"
                    ],
                    [
                      "Male"
                    ],
                    [
                      "Male"
                    ],
                    [
                      "Male"
                    ],
                    [
                      "Male"
                    ],
                    [
                      "Male"
                    ],
                    [
                      "Male"
                    ],
                    [
                      "Male"
                    ],
                    [
                      "Male"
                    ],
                    [
                      "Male"
                    ],
                    [
                      "Male"
                    ],
                    [
                      "Male"
                    ],
                    [
                      "Male"
                    ],
                    [
                      "Male"
                    ],
                    [
                      "Male"
                    ],
                    [
                      "Male"
                    ],
                    [
                      "Male"
                    ],
                    [
                      "Male"
                    ],
                    [
                      "Male"
                    ],
                    [
                      "Male"
                    ],
                    [
                      "Male"
                    ],
                    [
                      "Male"
                    ],
                    [
                      "Male"
                    ],
                    [
                      "Male"
                    ],
                    [
                      "Male"
                    ],
                    [
                      "Male"
                    ],
                    [
                      "Male"
                    ],
                    [
                      "Male"
                    ],
                    [
                      "Male"
                    ],
                    [
                      "Male"
                    ],
                    [
                      "Male"
                    ],
                    [
                      "Male"
                    ],
                    [
                      "Male"
                    ],
                    [
                      "Male"
                    ],
                    [
                      "Male"
                    ],
                    [
                      "Male"
                    ],
                    [
                      "Male"
                    ],
                    [
                      "Male"
                    ],
                    [
                      "Male"
                    ],
                    [
                      "Male"
                    ],
                    [
                      "Male"
                    ],
                    [
                      "Male"
                    ],
                    [
                      "Male"
                    ],
                    [
                      "Male"
                    ],
                    [
                      "Male"
                    ]
                  ],
                  "hovertemplate": "Gender=%{customdata[0]}<br>Age=%{x}<br>Annual Income (k$)=%{y}<br>Spending Score (1-100)=%{z}<extra></extra>",
                  "legendgroup": "Male",
                  "marker": {
                    "color": "#636efa",
                    "opacity": 0.85,
                    "size": 6,
                    "symbol": "circle"
                  },
                  "mode": "markers",
                  "name": "Male",
                  "scene": "scene",
                  "showlegend": true,
                  "type": "scatter3d",
                  "x": [
                    19,
                    21,
                    64,
                    67,
                    37,
                    22,
                    20,
                    52,
                    35,
                    25,
                    31,
                    29,
                    35,
                    60,
                    53,
                    18,
                    24,
                    48,
                    33,
                    59,
                    47,
                    69,
                    53,
                    70,
                    19,
                    63,
                    18,
                    19,
                    70,
                    59,
                    26,
                    40,
                    57,
                    38,
                    67,
                    48,
                    18,
                    48,
                    24,
                    48,
                    20,
                    67,
                    26,
                    49,
                    54,
                    68,
                    66,
                    65,
                    19,
                    27,
                    39,
                    43,
                    40,
                    59,
                    38,
                    47,
                    39,
                    20,
                    32,
                    19,
                    32,
                    25,
                    28,
                    48,
                    34,
                    43,
                    39,
                    37,
                    34,
                    19,
                    50,
                    42,
                    32,
                    40,
                    28,
                    36,
                    36,
                    58,
                    27,
                    59,
                    35,
                    46,
                    30,
                    28,
                    33,
                    32,
                    32,
                    30
                  ],
                  "y": [
                    15,
                    15,
                    19,
                    19,
                    20,
                    20,
                    21,
                    23,
                    24,
                    24,
                    25,
                    28,
                    28,
                    30,
                    33,
                    33,
                    38,
                    39,
                    42,
                    43,
                    43,
                    44,
                    46,
                    46,
                    46,
                    48,
                    48,
                    48,
                    49,
                    54,
                    54,
                    54,
                    54,
                    54,
                    54,
                    54,
                    59,
                    60,
                    60,
                    61,
                    61,
                    62,
                    62,
                    62,
                    63,
                    63,
                    63,
                    63,
                    64,
                    67,
                    69,
                    71,
                    71,
                    71,
                    71,
                    71,
                    71,
                    73,
                    73,
                    74,
                    75,
                    77,
                    77,
                    77,
                    78,
                    78,
                    78,
                    78,
                    78,
                    81,
                    85,
                    86,
                    87,
                    87,
                    87,
                    87,
                    87,
                    88,
                    88,
                    93,
                    93,
                    98,
                    99,
                    101,
                    113,
                    126,
                    137,
                    137
                  ],
                  "z": [
                    39,
                    81,
                    3,
                    14,
                    13,
                    79,
                    66,
                    29,
                    35,
                    73,
                    73,
                    82,
                    61,
                    4,
                    4,
                    92,
                    92,
                    36,
                    60,
                    60,
                    41,
                    46,
                    46,
                    56,
                    55,
                    51,
                    59,
                    59,
                    55,
                    47,
                    54,
                    48,
                    51,
                    55,
                    41,
                    46,
                    41,
                    49,
                    52,
                    42,
                    49,
                    59,
                    55,
                    56,
                    46,
                    43,
                    48,
                    52,
                    46,
                    56,
                    91,
                    35,
                    95,
                    11,
                    75,
                    9,
                    75,
                    5,
                    73,
                    10,
                    93,
                    12,
                    97,
                    36,
                    90,
                    17,
                    88,
                    1,
                    1,
                    5,
                    26,
                    20,
                    63,
                    13,
                    75,
                    10,
                    92,
                    15,
                    69,
                    14,
                    90,
                    15,
                    97,
                    68,
                    8,
                    74,
                    18,
                    83
                  ]
                },
                {
                  "customdata": [
                    [
                      "Female"
                    ],
                    [
                      "Female"
                    ],
                    [
                      "Female"
                    ],
                    [
                      "Female"
                    ],
                    [
                      "Female"
                    ],
                    [
                      "Female"
                    ],
                    [
                      "Female"
                    ],
                    [
                      "Female"
                    ],
                    [
                      "Female"
                    ],
                    [
                      "Female"
                    ],
                    [
                      "Female"
                    ],
                    [
                      "Female"
                    ],
                    [
                      "Female"
                    ],
                    [
                      "Female"
                    ],
                    [
                      "Female"
                    ],
                    [
                      "Female"
                    ],
                    [
                      "Female"
                    ],
                    [
                      "Female"
                    ],
                    [
                      "Female"
                    ],
                    [
                      "Female"
                    ],
                    [
                      "Female"
                    ],
                    [
                      "Female"
                    ],
                    [
                      "Female"
                    ],
                    [
                      "Female"
                    ],
                    [
                      "Female"
                    ],
                    [
                      "Female"
                    ],
                    [
                      "Female"
                    ],
                    [
                      "Female"
                    ],
                    [
                      "Female"
                    ],
                    [
                      "Female"
                    ],
                    [
                      "Female"
                    ],
                    [
                      "Female"
                    ],
                    [
                      "Female"
                    ],
                    [
                      "Female"
                    ],
                    [
                      "Female"
                    ],
                    [
                      "Female"
                    ],
                    [
                      "Female"
                    ],
                    [
                      "Female"
                    ],
                    [
                      "Female"
                    ],
                    [
                      "Female"
                    ],
                    [
                      "Female"
                    ],
                    [
                      "Female"
                    ],
                    [
                      "Female"
                    ],
                    [
                      "Female"
                    ],
                    [
                      "Female"
                    ],
                    [
                      "Female"
                    ],
                    [
                      "Female"
                    ],
                    [
                      "Female"
                    ],
                    [
                      "Female"
                    ],
                    [
                      "Female"
                    ],
                    [
                      "Female"
                    ],
                    [
                      "Female"
                    ],
                    [
                      "Female"
                    ],
                    [
                      "Female"
                    ],
                    [
                      "Female"
                    ],
                    [
                      "Female"
                    ],
                    [
                      "Female"
                    ],
                    [
                      "Female"
                    ],
                    [
                      "Female"
                    ],
                    [
                      "Female"
                    ],
                    [
                      "Female"
                    ],
                    [
                      "Female"
                    ],
                    [
                      "Female"
                    ],
                    [
                      "Female"
                    ],
                    [
                      "Female"
                    ],
                    [
                      "Female"
                    ],
                    [
                      "Female"
                    ],
                    [
                      "Female"
                    ],
                    [
                      "Female"
                    ],
                    [
                      "Female"
                    ],
                    [
                      "Female"
                    ],
                    [
                      "Female"
                    ],
                    [
                      "Female"
                    ],
                    [
                      "Female"
                    ],
                    [
                      "Female"
                    ],
                    [
                      "Female"
                    ],
                    [
                      "Female"
                    ],
                    [
                      "Female"
                    ],
                    [
                      "Female"
                    ],
                    [
                      "Female"
                    ],
                    [
                      "Female"
                    ],
                    [
                      "Female"
                    ],
                    [
                      "Female"
                    ],
                    [
                      "Female"
                    ],
                    [
                      "Female"
                    ],
                    [
                      "Female"
                    ],
                    [
                      "Female"
                    ],
                    [
                      "Female"
                    ],
                    [
                      "Female"
                    ],
                    [
                      "Female"
                    ],
                    [
                      "Female"
                    ],
                    [
                      "Female"
                    ],
                    [
                      "Female"
                    ],
                    [
                      "Female"
                    ],
                    [
                      "Female"
                    ],
                    [
                      "Female"
                    ],
                    [
                      "Female"
                    ],
                    [
                      "Female"
                    ],
                    [
                      "Female"
                    ],
                    [
                      "Female"
                    ],
                    [
                      "Female"
                    ],
                    [
                      "Female"
                    ],
                    [
                      "Female"
                    ],
                    [
                      "Female"
                    ],
                    [
                      "Female"
                    ],
                    [
                      "Female"
                    ],
                    [
                      "Female"
                    ],
                    [
                      "Female"
                    ],
                    [
                      "Female"
                    ],
                    [
                      "Female"
                    ],
                    [
                      "Female"
                    ],
                    [
                      "Female"
                    ]
                  ],
                  "hovertemplate": "Gender=%{customdata[0]}<br>Age=%{x}<br>Annual Income (k$)=%{y}<br>Spending Score (1-100)=%{z}<extra></extra>",
                  "legendgroup": "Female",
                  "marker": {
                    "color": "#EF553B",
                    "opacity": 0.85,
                    "size": 6,
                    "symbol": "diamond"
                  },
                  "mode": "markers",
                  "name": "Female",
                  "scene": "scene",
                  "showlegend": true,
                  "type": "scatter3d",
                  "x": [
                    20,
                    23,
                    31,
                    22,
                    35,
                    23,
                    30,
                    35,
                    58,
                    24,
                    35,
                    35,
                    46,
                    54,
                    45,
                    40,
                    23,
                    21,
                    49,
                    21,
                    42,
                    30,
                    36,
                    20,
                    65,
                    31,
                    49,
                    24,
                    50,
                    27,
                    29,
                    31,
                    49,
                    31,
                    50,
                    51,
                    27,
                    67,
                    54,
                    43,
                    68,
                    32,
                    47,
                    60,
                    60,
                    45,
                    23,
                    49,
                    46,
                    21,
                    55,
                    22,
                    34,
                    50,
                    68,
                    40,
                    32,
                    47,
                    27,
                    23,
                    49,
                    21,
                    66,
                    19,
                    38,
                    18,
                    19,
                    63,
                    49,
                    51,
                    50,
                    38,
                    40,
                    23,
                    31,
                    25,
                    31,
                    29,
                    44,
                    35,
                    57,
                    28,
                    32,
                    32,
                    34,
                    44,
                    38,
                    47,
                    27,
                    30,
                    30,
                    56,
                    29,
                    31,
                    36,
                    33,
                    36,
                    52,
                    30,
                    37,
                    32,
                    29,
                    41,
                    54,
                    41,
                    36,
                    34,
                    32,
                    38,
                    47,
                    35,
                    45
                  ],
                  "y": [
                    16,
                    16,
                    17,
                    17,
                    18,
                    18,
                    19,
                    19,
                    20,
                    20,
                    21,
                    23,
                    25,
                    28,
                    28,
                    29,
                    29,
                    30,
                    33,
                    33,
                    34,
                    34,
                    37,
                    37,
                    38,
                    39,
                    39,
                    39,
                    40,
                    40,
                    40,
                    40,
                    42,
                    43,
                    43,
                    44,
                    46,
                    47,
                    47,
                    48,
                    48,
                    48,
                    49,
                    50,
                    50,
                    54,
                    54,
                    54,
                    54,
                    54,
                    57,
                    57,
                    58,
                    58,
                    59,
                    60,
                    60,
                    60,
                    60,
                    62,
                    62,
                    62,
                    63,
                    63,
                    64,
                    65,
                    65,
                    65,
                    65,
                    67,
                    67,
                    67,
                    69,
                    70,
                    70,
                    72,
                    72,
                    73,
                    73,
                    74,
                    75,
                    76,
                    76,
                    77,
                    78,
                    78,
                    78,
                    78,
                    78,
                    78,
                    78,
                    79,
                    79,
                    81,
                    85,
                    86,
                    87,
                    88,
                    88,
                    97,
                    97,
                    98,
                    99,
                    101,
                    103,
                    103,
                    103,
                    103,
                    113,
                    120,
                    120,
                    126
                  ],
                  "z": [
                    6,
                    77,
                    40,
                    76,
                    6,
                    94,
                    72,
                    99,
                    15,
                    77,
                    35,
                    98,
                    5,
                    14,
                    32,
                    31,
                    87,
                    73,
                    14,
                    81,
                    17,
                    73,
                    26,
                    75,
                    35,
                    61,
                    28,
                    65,
                    55,
                    47,
                    42,
                    42,
                    52,
                    54,
                    45,
                    50,
                    51,
                    52,
                    59,
                    50,
                    48,
                    47,
                    42,
                    49,
                    56,
                    53,
                    52,
                    42,
                    44,
                    57,
                    58,
                    55,
                    60,
                    46,
                    55,
                    40,
                    42,
                    47,
                    50,
                    41,
                    48,
                    42,
                    50,
                    54,
                    42,
                    48,
                    50,
                    43,
                    59,
                    43,
                    57,
                    40,
                    58,
                    29,
                    77,
                    34,
                    71,
                    88,
                    7,
                    72,
                    5,
                    40,
                    87,
                    74,
                    22,
                    20,
                    76,
                    16,
                    89,
                    78,
                    73,
                    35,
                    83,
                    93,
                    75,
                    95,
                    27,
                    13,
                    86,
                    32,
                    86,
                    88,
                    39,
                    24,
                    17,
                    85,
                    23,
                    69,
                    91,
                    16,
                    79,
                    28
                  ]
                }
              ],
              "layout": {
                "height": 800,
                "legend": {
                  "bgcolor": "rgba(255,255,255,0.6)",
                  "bordercolor": "gray",
                  "borderwidth": 1,
                  "title": {
                    "text": "Gender"
                  },
                  "tracegroupgap": 0,
                  "x": 1.1,
                  "y": 0.95
                },
                "scene": {
                  "domain": {
                    "x": [
                      0,
                      1
                    ],
                    "y": [
                      0,
                      1
                    ]
                  },
                  "xaxis": {
                    "title": {
                      "text": "Age"
                    }
                  },
                  "yaxis": {
                    "title": {
                      "text": "Annual Income (k$)"
                    }
                  },
                  "zaxis": {
                    "title": {
                      "text": "Spending Score (1-100)"
                    }
                  }
                },
                "template": {
                  "data": {
                    "bar": [
                      {
                        "error_x": {
                          "color": "#2a3f5f"
                        },
                        "error_y": {
                          "color": "#2a3f5f"
                        },
                        "marker": {
                          "line": {
                            "color": "#E5ECF6",
                            "width": 0.5
                          },
                          "pattern": {
                            "fillmode": "overlay",
                            "size": 10,
                            "solidity": 0.2
                          }
                        },
                        "type": "bar"
                      }
                    ],
                    "barpolar": [
                      {
                        "marker": {
                          "line": {
                            "color": "#E5ECF6",
                            "width": 0.5
                          },
                          "pattern": {
                            "fillmode": "overlay",
                            "size": 10,
                            "solidity": 0.2
                          }
                        },
                        "type": "barpolar"
                      }
                    ],
                    "carpet": [
                      {
                        "aaxis": {
                          "endlinecolor": "#2a3f5f",
                          "gridcolor": "white",
                          "linecolor": "white",
                          "minorgridcolor": "white",
                          "startlinecolor": "#2a3f5f"
                        },
                        "baxis": {
                          "endlinecolor": "#2a3f5f",
                          "gridcolor": "white",
                          "linecolor": "white",
                          "minorgridcolor": "white",
                          "startlinecolor": "#2a3f5f"
                        },
                        "type": "carpet"
                      }
                    ],
                    "choropleth": [
                      {
                        "colorbar": {
                          "outlinewidth": 0,
                          "ticks": ""
                        },
                        "type": "choropleth"
                      }
                    ],
                    "contour": [
                      {
                        "colorbar": {
                          "outlinewidth": 0,
                          "ticks": ""
                        },
                        "colorscale": [
                          [
                            0,
                            "#0d0887"
                          ],
                          [
                            0.1111111111111111,
                            "#46039f"
                          ],
                          [
                            0.2222222222222222,
                            "#7201a8"
                          ],
                          [
                            0.3333333333333333,
                            "#9c179e"
                          ],
                          [
                            0.4444444444444444,
                            "#bd3786"
                          ],
                          [
                            0.5555555555555556,
                            "#d8576b"
                          ],
                          [
                            0.6666666666666666,
                            "#ed7953"
                          ],
                          [
                            0.7777777777777778,
                            "#fb9f3a"
                          ],
                          [
                            0.8888888888888888,
                            "#fdca26"
                          ],
                          [
                            1,
                            "#f0f921"
                          ]
                        ],
                        "type": "contour"
                      }
                    ],
                    "contourcarpet": [
                      {
                        "colorbar": {
                          "outlinewidth": 0,
                          "ticks": ""
                        },
                        "type": "contourcarpet"
                      }
                    ],
                    "heatmap": [
                      {
                        "colorbar": {
                          "outlinewidth": 0,
                          "ticks": ""
                        },
                        "colorscale": [
                          [
                            0,
                            "#0d0887"
                          ],
                          [
                            0.1111111111111111,
                            "#46039f"
                          ],
                          [
                            0.2222222222222222,
                            "#7201a8"
                          ],
                          [
                            0.3333333333333333,
                            "#9c179e"
                          ],
                          [
                            0.4444444444444444,
                            "#bd3786"
                          ],
                          [
                            0.5555555555555556,
                            "#d8576b"
                          ],
                          [
                            0.6666666666666666,
                            "#ed7953"
                          ],
                          [
                            0.7777777777777778,
                            "#fb9f3a"
                          ],
                          [
                            0.8888888888888888,
                            "#fdca26"
                          ],
                          [
                            1,
                            "#f0f921"
                          ]
                        ],
                        "type": "heatmap"
                      }
                    ],
                    "heatmapgl": [
                      {
                        "colorbar": {
                          "outlinewidth": 0,
                          "ticks": ""
                        },
                        "colorscale": [
                          [
                            0,
                            "#0d0887"
                          ],
                          [
                            0.1111111111111111,
                            "#46039f"
                          ],
                          [
                            0.2222222222222222,
                            "#7201a8"
                          ],
                          [
                            0.3333333333333333,
                            "#9c179e"
                          ],
                          [
                            0.4444444444444444,
                            "#bd3786"
                          ],
                          [
                            0.5555555555555556,
                            "#d8576b"
                          ],
                          [
                            0.6666666666666666,
                            "#ed7953"
                          ],
                          [
                            0.7777777777777778,
                            "#fb9f3a"
                          ],
                          [
                            0.8888888888888888,
                            "#fdca26"
                          ],
                          [
                            1,
                            "#f0f921"
                          ]
                        ],
                        "type": "heatmapgl"
                      }
                    ],
                    "histogram": [
                      {
                        "marker": {
                          "pattern": {
                            "fillmode": "overlay",
                            "size": 10,
                            "solidity": 0.2
                          }
                        },
                        "type": "histogram"
                      }
                    ],
                    "histogram2d": [
                      {
                        "colorbar": {
                          "outlinewidth": 0,
                          "ticks": ""
                        },
                        "colorscale": [
                          [
                            0,
                            "#0d0887"
                          ],
                          [
                            0.1111111111111111,
                            "#46039f"
                          ],
                          [
                            0.2222222222222222,
                            "#7201a8"
                          ],
                          [
                            0.3333333333333333,
                            "#9c179e"
                          ],
                          [
                            0.4444444444444444,
                            "#bd3786"
                          ],
                          [
                            0.5555555555555556,
                            "#d8576b"
                          ],
                          [
                            0.6666666666666666,
                            "#ed7953"
                          ],
                          [
                            0.7777777777777778,
                            "#fb9f3a"
                          ],
                          [
                            0.8888888888888888,
                            "#fdca26"
                          ],
                          [
                            1,
                            "#f0f921"
                          ]
                        ],
                        "type": "histogram2d"
                      }
                    ],
                    "histogram2dcontour": [
                      {
                        "colorbar": {
                          "outlinewidth": 0,
                          "ticks": ""
                        },
                        "colorscale": [
                          [
                            0,
                            "#0d0887"
                          ],
                          [
                            0.1111111111111111,
                            "#46039f"
                          ],
                          [
                            0.2222222222222222,
                            "#7201a8"
                          ],
                          [
                            0.3333333333333333,
                            "#9c179e"
                          ],
                          [
                            0.4444444444444444,
                            "#bd3786"
                          ],
                          [
                            0.5555555555555556,
                            "#d8576b"
                          ],
                          [
                            0.6666666666666666,
                            "#ed7953"
                          ],
                          [
                            0.7777777777777778,
                            "#fb9f3a"
                          ],
                          [
                            0.8888888888888888,
                            "#fdca26"
                          ],
                          [
                            1,
                            "#f0f921"
                          ]
                        ],
                        "type": "histogram2dcontour"
                      }
                    ],
                    "mesh3d": [
                      {
                        "colorbar": {
                          "outlinewidth": 0,
                          "ticks": ""
                        },
                        "type": "mesh3d"
                      }
                    ],
                    "parcoords": [
                      {
                        "line": {
                          "colorbar": {
                            "outlinewidth": 0,
                            "ticks": ""
                          }
                        },
                        "type": "parcoords"
                      }
                    ],
                    "pie": [
                      {
                        "automargin": true,
                        "type": "pie"
                      }
                    ],
                    "scatter": [
                      {
                        "fillpattern": {
                          "fillmode": "overlay",
                          "size": 10,
                          "solidity": 0.2
                        },
                        "type": "scatter"
                      }
                    ],
                    "scatter3d": [
                      {
                        "line": {
                          "colorbar": {
                            "outlinewidth": 0,
                            "ticks": ""
                          }
                        },
                        "marker": {
                          "colorbar": {
                            "outlinewidth": 0,
                            "ticks": ""
                          }
                        },
                        "type": "scatter3d"
                      }
                    ],
                    "scattercarpet": [
                      {
                        "marker": {
                          "colorbar": {
                            "outlinewidth": 0,
                            "ticks": ""
                          }
                        },
                        "type": "scattercarpet"
                      }
                    ],
                    "scattergeo": [
                      {
                        "marker": {
                          "colorbar": {
                            "outlinewidth": 0,
                            "ticks": ""
                          }
                        },
                        "type": "scattergeo"
                      }
                    ],
                    "scattergl": [
                      {
                        "marker": {
                          "colorbar": {
                            "outlinewidth": 0,
                            "ticks": ""
                          }
                        },
                        "type": "scattergl"
                      }
                    ],
                    "scattermapbox": [
                      {
                        "marker": {
                          "colorbar": {
                            "outlinewidth": 0,
                            "ticks": ""
                          }
                        },
                        "type": "scattermapbox"
                      }
                    ],
                    "scatterpolar": [
                      {
                        "marker": {
                          "colorbar": {
                            "outlinewidth": 0,
                            "ticks": ""
                          }
                        },
                        "type": "scatterpolar"
                      }
                    ],
                    "scatterpolargl": [
                      {
                        "marker": {
                          "colorbar": {
                            "outlinewidth": 0,
                            "ticks": ""
                          }
                        },
                        "type": "scatterpolargl"
                      }
                    ],
                    "scatterternary": [
                      {
                        "marker": {
                          "colorbar": {
                            "outlinewidth": 0,
                            "ticks": ""
                          }
                        },
                        "type": "scatterternary"
                      }
                    ],
                    "surface": [
                      {
                        "colorbar": {
                          "outlinewidth": 0,
                          "ticks": ""
                        },
                        "colorscale": [
                          [
                            0,
                            "#0d0887"
                          ],
                          [
                            0.1111111111111111,
                            "#46039f"
                          ],
                          [
                            0.2222222222222222,
                            "#7201a8"
                          ],
                          [
                            0.3333333333333333,
                            "#9c179e"
                          ],
                          [
                            0.4444444444444444,
                            "#bd3786"
                          ],
                          [
                            0.5555555555555556,
                            "#d8576b"
                          ],
                          [
                            0.6666666666666666,
                            "#ed7953"
                          ],
                          [
                            0.7777777777777778,
                            "#fb9f3a"
                          ],
                          [
                            0.8888888888888888,
                            "#fdca26"
                          ],
                          [
                            1,
                            "#f0f921"
                          ]
                        ],
                        "type": "surface"
                      }
                    ],
                    "table": [
                      {
                        "cells": {
                          "fill": {
                            "color": "#EBF0F8"
                          },
                          "line": {
                            "color": "white"
                          }
                        },
                        "header": {
                          "fill": {
                            "color": "#C8D4E3"
                          },
                          "line": {
                            "color": "white"
                          }
                        },
                        "type": "table"
                      }
                    ]
                  },
                  "layout": {
                    "annotationdefaults": {
                      "arrowcolor": "#2a3f5f",
                      "arrowhead": 0,
                      "arrowwidth": 1
                    },
                    "autotypenumbers": "strict",
                    "coloraxis": {
                      "colorbar": {
                        "outlinewidth": 0,
                        "ticks": ""
                      }
                    },
                    "colorscale": {
                      "diverging": [
                        [
                          0,
                          "#8e0152"
                        ],
                        [
                          0.1,
                          "#c51b7d"
                        ],
                        [
                          0.2,
                          "#de77ae"
                        ],
                        [
                          0.3,
                          "#f1b6da"
                        ],
                        [
                          0.4,
                          "#fde0ef"
                        ],
                        [
                          0.5,
                          "#f7f7f7"
                        ],
                        [
                          0.6,
                          "#e6f5d0"
                        ],
                        [
                          0.7,
                          "#b8e186"
                        ],
                        [
                          0.8,
                          "#7fbc41"
                        ],
                        [
                          0.9,
                          "#4d9221"
                        ],
                        [
                          1,
                          "#276419"
                        ]
                      ],
                      "sequential": [
                        [
                          0,
                          "#0d0887"
                        ],
                        [
                          0.1111111111111111,
                          "#46039f"
                        ],
                        [
                          0.2222222222222222,
                          "#7201a8"
                        ],
                        [
                          0.3333333333333333,
                          "#9c179e"
                        ],
                        [
                          0.4444444444444444,
                          "#bd3786"
                        ],
                        [
                          0.5555555555555556,
                          "#d8576b"
                        ],
                        [
                          0.6666666666666666,
                          "#ed7953"
                        ],
                        [
                          0.7777777777777778,
                          "#fb9f3a"
                        ],
                        [
                          0.8888888888888888,
                          "#fdca26"
                        ],
                        [
                          1,
                          "#f0f921"
                        ]
                      ],
                      "sequentialminus": [
                        [
                          0,
                          "#0d0887"
                        ],
                        [
                          0.1111111111111111,
                          "#46039f"
                        ],
                        [
                          0.2222222222222222,
                          "#7201a8"
                        ],
                        [
                          0.3333333333333333,
                          "#9c179e"
                        ],
                        [
                          0.4444444444444444,
                          "#bd3786"
                        ],
                        [
                          0.5555555555555556,
                          "#d8576b"
                        ],
                        [
                          0.6666666666666666,
                          "#ed7953"
                        ],
                        [
                          0.7777777777777778,
                          "#fb9f3a"
                        ],
                        [
                          0.8888888888888888,
                          "#fdca26"
                        ],
                        [
                          1,
                          "#f0f921"
                        ]
                      ]
                    },
                    "colorway": [
                      "#636efa",
                      "#EF553B",
                      "#00cc96",
                      "#ab63fa",
                      "#FFA15A",
                      "#19d3f3",
                      "#FF6692",
                      "#B6E880",
                      "#FF97FF",
                      "#FECB52"
                    ],
                    "font": {
                      "color": "#2a3f5f"
                    },
                    "geo": {
                      "bgcolor": "white",
                      "lakecolor": "white",
                      "landcolor": "#E5ECF6",
                      "showlakes": true,
                      "showland": true,
                      "subunitcolor": "white"
                    },
                    "hoverlabel": {
                      "align": "left"
                    },
                    "hovermode": "closest",
                    "mapbox": {
                      "style": "light"
                    },
                    "paper_bgcolor": "white",
                    "plot_bgcolor": "#E5ECF6",
                    "polar": {
                      "angularaxis": {
                        "gridcolor": "white",
                        "linecolor": "white",
                        "ticks": ""
                      },
                      "bgcolor": "#E5ECF6",
                      "radialaxis": {
                        "gridcolor": "white",
                        "linecolor": "white",
                        "ticks": ""
                      }
                    },
                    "scene": {
                      "xaxis": {
                        "backgroundcolor": "#E5ECF6",
                        "gridcolor": "white",
                        "gridwidth": 2,
                        "linecolor": "white",
                        "showbackground": true,
                        "ticks": "",
                        "zerolinecolor": "white"
                      },
                      "yaxis": {
                        "backgroundcolor": "#E5ECF6",
                        "gridcolor": "white",
                        "gridwidth": 2,
                        "linecolor": "white",
                        "showbackground": true,
                        "ticks": "",
                        "zerolinecolor": "white"
                      },
                      "zaxis": {
                        "backgroundcolor": "#E5ECF6",
                        "gridcolor": "white",
                        "gridwidth": 2,
                        "linecolor": "white",
                        "showbackground": true,
                        "ticks": "",
                        "zerolinecolor": "white"
                      }
                    },
                    "shapedefaults": {
                      "line": {
                        "color": "#2a3f5f"
                      }
                    },
                    "ternary": {
                      "aaxis": {
                        "gridcolor": "white",
                        "linecolor": "white",
                        "ticks": ""
                      },
                      "baxis": {
                        "gridcolor": "white",
                        "linecolor": "white",
                        "ticks": ""
                      },
                      "bgcolor": "#E5ECF6",
                      "caxis": {
                        "gridcolor": "white",
                        "linecolor": "white",
                        "ticks": ""
                      }
                    },
                    "title": {
                      "x": 0.05
                    },
                    "xaxis": {
                      "automargin": true,
                      "gridcolor": "white",
                      "linecolor": "white",
                      "ticks": "",
                      "title": {
                        "standoff": 15
                      },
                      "zerolinecolor": "white",
                      "zerolinewidth": 2
                    },
                    "yaxis": {
                      "automargin": true,
                      "gridcolor": "white",
                      "linecolor": "white",
                      "ticks": "",
                      "title": {
                        "standoff": 15
                      },
                      "zerolinecolor": "white",
                      "zerolinewidth": 2
                    }
                  }
                },
                "title": {
                  "text": "3D Plot of Age, Income, and Spending Score by Gender"
                },
                "width": 1000
              }
            }
          },
          "metadata": {},
          "output_type": "display_data"
        }
      ],
      "source": [
        "# scatter plot\n",
        "fig = px.scatter_3d(\n",
        "    df,\n",
        "    x='Age',\n",
        "    y='Annual Income (k$)',\n",
        "    z='Spending Score (1-100)',\n",
        "    color='Gender',\n",
        "    symbol='Gender',\n",
        "    hover_data=['Gender', 'Age', 'Annual Income (k$)', 'Spending Score (1-100)'],\n",
        "    title='3D Plot of Age, Income, and Spending Score by Gender',\n",
        "    opacity=0.85,\n",
        "    width=1000,\n",
        "    height=800\n",
        ")\n",
        "\n",
        "for trace in fig.data:\n",
        "    trace.marker.size = 6\n",
        "\n",
        "fig.update_layout(\n",
        "    legend=dict(\n",
        "        x=1.1,\n",
        "        y=0.95,\n",
        "        bgcolor='rgba(255,255,255,0.6)',\n",
        "        bordercolor='gray',\n",
        "        borderwidth=1\n",
        "    )\n",
        ")\n",
        "\n",
        "fig.show()\n"
      ]
    },
    {
      "cell_type": "markdown",
      "id": "218e03ea-2865-4e76-9e16-949e7ba39ed7",
      "metadata": {
        "id": "218e03ea-2865-4e76-9e16-949e7ba39ed7"
      },
      "source": [
        "# Choosing the number of clusters\n",
        "WCSS -> Within Clusters Sum of Squares"
      ]
    },
    {
      "cell_type": "code",
      "execution_count": 10,
      "id": "2d155e09-fbef-4b3e-a555-060ebaaf36a9",
      "metadata": {
        "id": "2d155e09-fbef-4b3e-a555-060ebaaf36a9"
      },
      "outputs": [
        {
          "name": "stderr",
          "output_type": "stream",
          "text": [
            "c:\\Users\\HP\\anaconda3\\Lib\\site-packages\\sklearn\\cluster\\_kmeans.py:1429: UserWarning:\n",
            "\n",
            "KMeans is known to have a memory leak on Windows with MKL, when there are less chunks than available threads. You can avoid it by setting the environment variable OMP_NUM_THREADS=1.\n",
            "\n",
            "c:\\Users\\HP\\anaconda3\\Lib\\site-packages\\sklearn\\cluster\\_kmeans.py:1429: UserWarning:\n",
            "\n",
            "KMeans is known to have a memory leak on Windows with MKL, when there are less chunks than available threads. You can avoid it by setting the environment variable OMP_NUM_THREADS=1.\n",
            "\n",
            "c:\\Users\\HP\\anaconda3\\Lib\\site-packages\\sklearn\\cluster\\_kmeans.py:1429: UserWarning:\n",
            "\n",
            "KMeans is known to have a memory leak on Windows with MKL, when there are less chunks than available threads. You can avoid it by setting the environment variable OMP_NUM_THREADS=1.\n",
            "\n",
            "c:\\Users\\HP\\anaconda3\\Lib\\site-packages\\sklearn\\cluster\\_kmeans.py:1429: UserWarning:\n",
            "\n",
            "KMeans is known to have a memory leak on Windows with MKL, when there are less chunks than available threads. You can avoid it by setting the environment variable OMP_NUM_THREADS=1.\n",
            "\n",
            "c:\\Users\\HP\\anaconda3\\Lib\\site-packages\\sklearn\\cluster\\_kmeans.py:1429: UserWarning:\n",
            "\n",
            "KMeans is known to have a memory leak on Windows with MKL, when there are less chunks than available threads. You can avoid it by setting the environment variable OMP_NUM_THREADS=1.\n",
            "\n",
            "c:\\Users\\HP\\anaconda3\\Lib\\site-packages\\sklearn\\cluster\\_kmeans.py:1429: UserWarning:\n",
            "\n",
            "KMeans is known to have a memory leak on Windows with MKL, when there are less chunks than available threads. You can avoid it by setting the environment variable OMP_NUM_THREADS=1.\n",
            "\n",
            "c:\\Users\\HP\\anaconda3\\Lib\\site-packages\\sklearn\\cluster\\_kmeans.py:1429: UserWarning:\n",
            "\n",
            "KMeans is known to have a memory leak on Windows with MKL, when there are less chunks than available threads. You can avoid it by setting the environment variable OMP_NUM_THREADS=1.\n",
            "\n",
            "c:\\Users\\HP\\anaconda3\\Lib\\site-packages\\sklearn\\cluster\\_kmeans.py:1429: UserWarning:\n",
            "\n",
            "KMeans is known to have a memory leak on Windows with MKL, when there are less chunks than available threads. You can avoid it by setting the environment variable OMP_NUM_THREADS=1.\n",
            "\n",
            "c:\\Users\\HP\\anaconda3\\Lib\\site-packages\\sklearn\\cluster\\_kmeans.py:1429: UserWarning:\n",
            "\n",
            "KMeans is known to have a memory leak on Windows with MKL, when there are less chunks than available threads. You can avoid it by setting the environment variable OMP_NUM_THREADS=1.\n",
            "\n",
            "c:\\Users\\HP\\anaconda3\\Lib\\site-packages\\sklearn\\cluster\\_kmeans.py:1429: UserWarning:\n",
            "\n",
            "KMeans is known to have a memory leak on Windows with MKL, when there are less chunks than available threads. You can avoid it by setting the environment variable OMP_NUM_THREADS=1.\n",
            "\n"
          ]
        }
      ],
      "source": [
        "# Finding wcss value for different number of clusters\n",
        "wcss = []\n",
        "\n",
        "for i in range(1, 11):\n",
        "    kmeans = KMeans(n_clusters=i, init = \"k-means++\", random_state = 42)\n",
        "    kmeans.fit(X)\n",
        "    wcss.append(kmeans.inertia_)"
      ]
    },
    {
      "cell_type": "markdown",
      "id": "1qIgIsMcCSkB",
      "metadata": {
        "id": "1qIgIsMcCSkB"
      },
      "source": [
        "# plot an Elbow Point graph"
      ]
    },
    {
      "cell_type": "code",
      "execution_count": 11,
      "id": "4fc20d98-5d63-45cd-8252-660a9f0f38a0",
      "metadata": {
        "colab": {
          "base_uri": "https://localhost:8080/",
          "height": 480
        },
        "id": "4fc20d98-5d63-45cd-8252-660a9f0f38a0",
        "outputId": "b7f5cfee-6dcb-4f7d-a505-4a629125455f"
      },
      "outputs": [
        {
          "data": {
            "image/png": "[encoded data removed]",
            "text/plain": [
              "<Figure size 640x480 with 1 Axes>"
            ]
          },
          "metadata": {},
          "output_type": "display_data"
        }
      ],
      "source": [
        "sns.set()\n",
        "plt.plot(range(1, 11), wcss)\n",
        "plt.title(\"Elbow Point Graph\")\n",
        "plt.xlabel(\"Number of clusters\")\n",
        "plt.ylabel(\"WCSS\")\n",
        "plt.show()"
      ]
    },
    {
      "cell_type": "markdown",
      "id": "4kuHa_whaxlY",
      "metadata": {
        "id": "4kuHa_whaxlY"
      },
      "source": [
        "# Optimum number of clusters = 5"
      ]
    },
    {
      "cell_type": "markdown",
      "id": "aXqVsGZRCMra",
      "metadata": {
        "id": "aXqVsGZRCMra"
      },
      "source": [
        "# Training the K-Means clustering Model"
      ]
    },
    {
      "cell_type": "code",
      "execution_count": 12,
      "id": "spUm9ACra-SA",
      "metadata": {
        "colab": {
          "base_uri": "https://localhost:8080/"
        },
        "id": "spUm9ACra-SA",
        "outputId": "19d87ac9-b323-42ee-97a2-a714e7f44d9a"
      },
      "outputs": [
        {
          "name": "stdout",
          "output_type": "stream",
          "text": [
            "[2 2 0 2 0 2 0 2 0 2 0 2 0 2 0 2 0 2 0 2 0 2 0 2 0 2 0 2 0 2 0 2 0 2 0 2 0\n",
            " 2 0 2 0 2 0 2 0 2 0 4 4 4 0 4 4 0 0 0 0 0 4 0 0 4 0 0 0 4 4 0 4 4 0 0 0 0\n",
            " 0 4 4 4 4 0 0 4 0 4 4 4 4 4 4 4 0 4 4 4 4 4 4 4 4 4 4 4 0 4 4 4 0 4 0 0 0\n",
            " 4 4 4 4 4 0 4 4 4 4 4 4 1 4 1 4 1 3 1 3 1 4 1 3 1 3 1 3 1 3 1 4 1 3 1 3 1\n",
            " 3 1 3 1 3 1 3 1 3 1 3 1 3 1 3 1 3 1 3 1 3 1 3 1 3 1 3 1 3 1 3 1 3 1 3 1 3\n",
            " 1 3 1 3 1 3 1 3 1 3 1 3 1 3 1]\n"
          ]
        },
        {
          "name": "stderr",
          "output_type": "stream",
          "text": [
            "c:\\Users\\HP\\anaconda3\\Lib\\site-packages\\sklearn\\cluster\\_kmeans.py:1429: UserWarning:\n",
            "\n",
            "KMeans is known to have a memory leak on Windows with MKL, when there are less chunks than available threads. You can avoid it by setting the environment variable OMP_NUM_THREADS=1.\n",
            "\n"
          ]
        }
      ],
      "source": [
        "kmeans = KMeans(n_clusters=5, init = 'k-means++', random_state = 0)\n",
        "\n",
        "# return a label for each data point\n",
        "Y = kmeans.fit_predict(X)\n",
        "\n",
        "print(Y)"
      ]
    },
    {
      "cell_type": "markdown",
      "id": "77wD8uaIcSjv",
      "metadata": {
        "id": "77wD8uaIcSjv"
      },
      "source": [
        "# Visualizing Clusters\n"
      ]
    },
    {
      "cell_type": "markdown",
      "id": "i7dk940Zs74V",
      "metadata": {
        "id": "i7dk940Zs74V"
      },
      "source": [
        "# Income vs Spending 2D plot"
      ]
    },
    {
      "cell_type": "code",
      "execution_count": 13,
      "id": "77hVdvJpcWG3",
      "metadata": {
        "colab": {
          "base_uri": "https://localhost:8080/",
          "height": 727
        },
        "id": "77hVdvJpcWG3",
        "outputId": "73b4c33d-5778-4ff2-933b-4a5039ff9816"
      },
      "outputs": [
        {
          "data": {
            "image/png": "[encoded data removed]",
            "text/plain": [
              "<Figure size 800x800 with 1 Axes>"
            ]
          },
          "metadata": {},
          "output_type": "display_data"
        }
      ],
      "source": [
        "# plot the clusters\n",
        "plt.figure(figsize=(8,8))\n",
        "plt.scatter(X[Y==0,0], X[Y==0,1], s=50, c='green', label='Cluster 1')\n",
        "plt.scatter(X[Y==1,0], X[Y==1,1], s=50, c='red', label='Cluster 2')\n",
        "plt.scatter(X[Y==2,0], X[Y==2,1], s=50, c='yellow', label='Cluster 3')\n",
        "plt.scatter(X[Y==3,0], X[Y==3,1], s=50, c='violet', label='Cluster 4')\n",
        "plt.scatter(X[Y==4,0], X[Y==4,1], s=50, c='blue', label='Cluster 5')\n",
        "\n",
        "# plot the centroids\n",
        "plt.scatter(kmeans.cluster_centers_[:,0], kmeans.cluster_centers_[:,1], s=100, c = 'cyan', label='Centroids')\n",
        "\n",
        "plt.title('Customer Groups')\n",
        "plt.xlabel('Annual Income')\n",
        "plt.ylabel('Spending Scores')\n",
        "plt.show()"
      ]
    },
    {
      "cell_type": "markdown",
      "id": "8oN6o4uptBKE",
      "metadata": {
        "id": "8oN6o4uptBKE"
      },
      "source": [
        "# 3D Plot of Cluster"
      ]
    },
    {
      "cell_type": "code",
      "execution_count": 14,
      "id": "x9mWClA1fosW",
      "metadata": {
        "colab": {
          "base_uri": "https://localhost:8080/",
          "height": 817
        },
        "id": "x9mWClA1fosW",
        "outputId": "25eebdea-8173-4bcd-d8e6-683ae7c62961"
      },
      "outputs": [
        {
          "data": {
            "application/vnd.plotly.v1+json": {
              "config": {
                "plotlyServerURL": "https://plot.ly"
              },
              "data": [
                {
                  "customdata": [
                    [
                      "Male"
                    ],
                    [
                      "Male"
                    ],
                    [
                      "Male"
                    ],
                    [
                      "Male"
                    ],
                    [
                      "Male"
                    ],
                    [
                      "Male"
                    ],
                    [
                      "Male"
                    ],
                    [
                      "Male"
                    ],
                    [
                      "Male"
                    ],
                    [
                      "Male"
                    ],
                    [
                      "Male"
                    ],
                    [
                      "Male"
                    ],
                    [
                      "Male"
                    ],
                    [
                      "Male"
                    ],
                    [
                      "Male"
                    ],
                    [
                      "Male"
                    ],
                    [
                      "Male"
                    ],
                    [
                      "Male"
                    ],
                    [
                      "Male"
                    ],
                    [
                      "Male"
                    ],
                    [
                      "Male"
                    ],
                    [
                      "Male"
                    ],
                    [
                      "Male"
                    ],
                    [
                      "Male"
                    ],
                    [
                      "Male"
                    ],
                    [
                      "Male"
                    ],
                    [
                      "Male"
                    ],
                    [
                      "Male"
                    ],
                    [
                      "Male"
                    ],
                    [
                      "Male"
                    ],
                    [
                      "Male"
                    ],
                    [
                      "Male"
                    ],
                    [
                      "Male"
                    ],
                    [
                      "Male"
                    ],
                    [
                      "Male"
                    ],
                    [
                      "Male"
                    ],
                    [
                      "Male"
                    ],
                    [
                      "Male"
                    ],
                    [
                      "Male"
                    ],
                    [
                      "Male"
                    ],
                    [
                      "Male"
                    ],
                    [
                      "Male"
                    ],
                    [
                      "Male"
                    ],
                    [
                      "Male"
                    ],
                    [
                      "Male"
                    ],
                    [
                      "Male"
                    ],
                    [
                      "Male"
                    ],
                    [
                      "Male"
                    ],
                    [
                      "Male"
                    ],
                    [
                      "Male"
                    ],
                    [
                      "Male"
                    ],
                    [
                      "Male"
                    ],
                    [
                      "Male"
                    ],
                    [
                      "Male"
                    ],
                    [
                      "Male"
                    ],
                    [
                      "Male"
                    ],
                    [
                      "Male"
                    ],
                    [
                      "Male"
                    ],
                    [
                      "Male"
                    ],
                    [
                      "Male"
                    ],
                    [
                      "Male"
                    ],
                    [
                      "Male"
                    ],
                    [
                      "Male"
                    ],
                    [
                      "Male"
                    ],
                    [
                      "Male"
                    ],
                    [
                      "Male"
                    ],
                    [
                      "Male"
                    ],
                    [
                      "Male"
                    ],
                    [
                      "Male"
                    ],
                    [
                      "Male"
                    ],
                    [
                      "Male"
                    ],
                    [
                      "Male"
                    ],
                    [
                      "Male"
                    ],
                    [
                      "Male"
                    ],
                    [
                      "Male"
                    ],
                    [
                      "Male"
                    ],
                    [
                      "Male"
                    ],
                    [
                      "Male"
                    ],
                    [
                      "Male"
                    ],
                    [
                      "Male"
                    ],
                    [
                      "Male"
                    ],
                    [
                      "Male"
                    ],
                    [
                      "Male"
                    ],
                    [
                      "Male"
                    ],
                    [
                      "Male"
                    ],
                    [
                      "Male"
                    ],
                    [
                      "Male"
                    ],
                    [
                      "Male"
                    ]
                  ],
                  "hovertemplate": "Gender=%{customdata[0]}<br>Age=%{x}<br>Annual Income=%{y}<br>Spending Score=%{z}<br>Cluster=%{marker.color}<extra></extra>",
                  "legendgroup": "Male",
                  "marker": {
                    "color": [
                      2,
                      2,
                      0,
                      0,
                      0,
                      2,
                      2,
                      0,
                      0,
                      2,
                      2,
                      2,
                      2,
                      0,
                      0,
                      2,
                      2,
                      0,
                      4,
                      0,
                      0,
                      0,
                      0,
                      0,
                      4,
                      0,
                      4,
                      4,
                      0,
                      0,
                      4,
                      4,
                      0,
                      4,
                      0,
                      4,
                      4,
                      4,
                      4,
                      4,
                      4,
                      0,
                      4,
                      4,
                      4,
                      0,
                      0,
                      0,
                      4,
                      4,
                      1,
                      4,
                      1,
                      3,
                      1,
                      3,
                      1,
                      3,
                      1,
                      3,
                      1,
                      3,
                      1,
                      3,
                      1,
                      3,
                      1,
                      3,
                      3,
                      3,
                      3,
                      3,
                      1,
                      3,
                      1,
                      3,
                      1,
                      3,
                      1,
                      3,
                      1,
                      3,
                      1,
                      1,
                      3,
                      1,
                      3,
                      1
                    ],
                    "coloraxis": "coloraxis",
                    "colorbar": {
                      "len": 0.4,
                      "thickness": 12,
                      "x": -0.25
                    },
                    "opacity": 0.85,
                    "size": 6,
                    "symbol": "circle"
                  },
                  "mode": "markers",
                  "name": "Male",
                  "scene": "scene",
                  "showlegend": true,
                  "type": "scatter3d",
                  "x": [
                    19,
                    21,
                    64,
                    67,
                    37,
                    22,
                    20,
                    52,
                    35,
                    25,
                    31,
                    29,
                    35,
                    60,
                    53,
                    18,
                    24,
                    48,
                    33,
                    59,
                    47,
                    69,
                    53,
                    70,
                    19,
                    63,
                    18,
                    19,
                    70,
                    59,
                    26,
                    40,
                    57,
                    38,
                    67,
                    48,
                    18,
                    48,
                    24,
                    48,
                    20,
                    67,
                    26,
                    49,
                    54,
                    68,
                    66,
                    65,
                    19,
                    27,
                    39,
                    43,
                    40,
                    59,
                    38,
                    47,
                    39,
                    20,
                    32,
                    19,
                    32,
                    25,
                    28,
                    48,
                    34,
                    43,
                    39,
                    37,
                    34,
                    19,
                    50,
                    42,
                    32,
                    40,
                    28,
                    36,
                    36,
                    58,
                    27,
                    59,
                    35,
                    46,
                    30,
                    28,
                    33,
                    32,
                    32,
                    30
                  ],
                  "y": [
                    15,
                    15,
                    19,
                    19,
                    20,
                    20,
                    21,
                    23,
                    24,
                    24,
                    25,
                    28,
                    28,
                    30,
                    33,
                    33,
                    38,
                    39,
                    42,
                    43,
                    43,
                    44,
                    46,
                    46,
                    46,
                    48,
                    48,
                    48,
                    49,
                    54,
                    54,
                    54,
                    54,
                    54,
                    54,
                    54,
                    59,
                    60,
                    60,
                    61,
                    61,
                    62,
                    62,
                    62,
                    63,
                    63,
                    63,
                    63,
                    64,
                    67,
                    69,
                    71,
                    71,
                    71,
                    71,
                    71,
                    71,
                    73,
                    73,
                    74,
                    75,
                    77,
                    77,
                    77,
                    78,
                    78,
                    78,
                    78,
                    78,
                    81,
                    85,
                    86,
                    87,
                    87,
                    87,
                    87,
                    87,
                    88,
                    88,
                    93,
                    93,
                    98,
                    99,
                    101,
                    113,
                    126,
                    137,
                    137
                  ],
                  "z": [
                    39,
                    81,
                    3,
                    14,
                    13,
                    79,
                    66,
                    29,
                    35,
                    73,
                    73,
                    82,
                    61,
                    4,
                    4,
                    92,
                    92,
                    36,
                    60,
                    60,
                    41,
                    46,
                    46,
                    56,
                    55,
                    51,
                    59,
                    59,
                    55,
                    47,
                    54,
                    48,
                    51,
                    55,
                    41,
                    46,
                    41,
                    49,
                    52,
                    42,
                    49,
                    59,
                    55,
                    56,
                    46,
                    43,
                    48,
                    52,
                    46,
                    56,
                    91,
                    35,
                    95,
                    11,
                    75,
                    9,
                    75,
                    5,
                    73,
                    10,
                    93,
                    12,
                    97,
                    36,
                    90,
                    17,
                    88,
                    1,
                    1,
                    5,
                    26,
                    20,
                    63,
                    13,
                    75,
                    10,
                    92,
                    15,
                    69,
                    14,
                    90,
                    15,
                    97,
                    68,
                    8,
                    74,
                    18,
                    83
                  ]
                },
                {
                  "customdata": [
                    [
                      "Female"
                    ],
                    [
                      "Female"
                    ],
                    [
                      "Female"
                    ],
                    [
                      "Female"
                    ],
                    [
                      "Female"
                    ],
                    [
                      "Female"
                    ],
                    [
                      "Female"
                    ],
                    [
                      "Female"
                    ],
                    [
                      "Female"
                    ],
                    [
                      "Female"
                    ],
                    [
                      "Female"
                    ],
                    [
                      "Female"
                    ],
                    [
                      "Female"
                    ],
                    [
                      "Female"
                    ],
                    [
                      "Female"
                    ],
                    [
                      "Female"
                    ],
                    [
                      "Female"
                    ],
                    [
                      "Female"
                    ],
                    [
                      "Female"
                    ],
                    [
                      "Female"
                    ],
                    [
                      "Female"
                    ],
                    [
                      "Female"
                    ],
                    [
                      "Female"
                    ],
                    [
                      "Female"
                    ],
                    [
                      "Female"
                    ],
                    [
                      "Female"
                    ],
                    [
                      "Female"
                    ],
                    [
                      "Female"
                    ],
                    [
                      "Female"
                    ],
                    [
                      "Female"
                    ],
                    [
                      "Female"
                    ],
                    [
                      "Female"
                    ],
                    [
                      "Female"
                    ],
                    [
                      "Female"
                    ],
                    [
                      "Female"
                    ],
                    [
                      "Female"
                    ],
                    [
                      "Female"
                    ],
                    [
                      "Female"
                    ],
                    [
                      "Female"
                    ],
                    [
                      "Female"
                    ],
                    [
                      "Female"
                    ],
                    [
                      "Female"
                    ],
                    [
                      "Female"
                    ],
                    [
                      "Female"
                    ],
                    [
                      "Female"
                    ],
                    [
                      "Female"
                    ],
                    [
                      "Female"
                    ],
                    [
                      "Female"
                    ],
                    [
                      "Female"
                    ],
                    [
                      "Female"
                    ],
                    [
                      "Female"
                    ],
                    [
                      "Female"
                    ],
                    [
                      "Female"
                    ],
                    [
                      "Female"
                    ],
                    [
                      "Female"
                    ],
                    [
                      "Female"
                    ],
                    [
                      "Female"
                    ],
                    [
                      "Female"
                    ],
                    [
                      "Female"
                    ],
                    [
                      "Female"
                    ],
                    [
                      "Female"
                    ],
                    [
                      "Female"
                    ],
                    [
                      "Female"
                    ],
                    [
                      "Female"
                    ],
                    [
                      "Female"
                    ],
                    [
                      "Female"
                    ],
                    [
                      "Female"
                    ],
                    [
                      "Female"
                    ],
                    [
                      "Female"
                    ],
                    [
                      "Female"
                    ],
                    [
                      "Female"
                    ],
                    [
                      "Female"
                    ],
                    [
                      "Female"
                    ],
                    [
                      "Female"
                    ],
                    [
                      "Female"
                    ],
                    [
                      "Female"
                    ],
                    [
                      "Female"
                    ],
                    [
                      "Female"
                    ],
                    [
                      "Female"
                    ],
                    [
                      "Female"
                    ],
                    [
                      "Female"
                    ],
                    [
                      "Female"
                    ],
                    [
                      "Female"
                    ],
                    [
                      "Female"
                    ],
                    [
                      "Female"
                    ],
                    [
                      "Female"
                    ],
                    [
                      "Female"
                    ],
                    [
                      "Female"
                    ],
                    [
                      "Female"
                    ],
                    [
                      "Female"
                    ],
                    [
                      "Female"
                    ],
                    [
                      "Female"
                    ],
                    [
                      "Female"
                    ],
                    [
                      "Female"
                    ],
                    [
                      "Female"
                    ],
                    [
                      "Female"
                    ],
                    [
                      "Female"
                    ],
                    [
                      "Female"
                    ],
                    [
                      "Female"
                    ],
                    [
                      "Female"
                    ],
                    [
                      "Female"
                    ],
                    [
                      "Female"
                    ],
                    [
                      "Female"
                    ],
                    [
                      "Female"
                    ],
                    [
                      "Female"
                    ],
                    [
                      "Female"
                    ],
                    [
                      "Female"
                    ],
                    [
                      "Female"
                    ],
                    [
                      "Female"
                    ],
                    [
                      "Female"
                    ],
                    [
                      "Female"
                    ],
                    [
                      "Female"
                    ]
                  ],
                  "hovertemplate": "Gender=%{customdata[0]}<br>Age=%{x}<br>Annual Income=%{y}<br>Spending Score=%{z}<br>Cluster=%{marker.color}<extra></extra>",
                  "legendgroup": "Female",
                  "marker": {
                    "color": [
                      0,
                      2,
                      0,
                      2,
                      0,
                      2,
                      2,
                      2,
                      0,
                      2,
                      0,
                      2,
                      0,
                      0,
                      0,
                      0,
                      2,
                      2,
                      0,
                      2,
                      0,
                      2,
                      0,
                      2,
                      0,
                      2,
                      0,
                      2,
                      0,
                      4,
                      4,
                      4,
                      0,
                      4,
                      0,
                      0,
                      4,
                      0,
                      0,
                      4,
                      0,
                      4,
                      0,
                      0,
                      0,
                      4,
                      4,
                      0,
                      4,
                      4,
                      4,
                      4,
                      4,
                      4,
                      0,
                      4,
                      4,
                      4,
                      4,
                      4,
                      4,
                      4,
                      0,
                      4,
                      4,
                      4,
                      4,
                      0,
                      4,
                      4,
                      4,
                      4,
                      4,
                      4,
                      1,
                      4,
                      1,
                      1,
                      3,
                      1,
                      3,
                      4,
                      1,
                      1,
                      3,
                      3,
                      1,
                      3,
                      1,
                      1,
                      1,
                      3,
                      1,
                      1,
                      1,
                      1,
                      3,
                      3,
                      1,
                      3,
                      1,
                      1,
                      3,
                      3,
                      3,
                      1,
                      3,
                      1,
                      1,
                      3,
                      1,
                      3
                    ],
                    "coloraxis": "coloraxis",
                    "colorbar": {
                      "len": 0.4,
                      "thickness": 12,
                      "x": -0.25
                    },
                    "opacity": 0.85,
                    "size": 6,
                    "symbol": "diamond"
                  },
                  "mode": "markers",
                  "name": "Female",
                  "scene": "scene",
                  "showlegend": true,
                  "type": "scatter3d",
                  "x": [
                    20,
                    23,
                    31,
                    22,
                    35,
                    23,
                    30,
                    35,
                    58,
                    24,
                    35,
                    35,
                    46,
                    54,
                    45,
                    40,
                    23,
                    21,
                    49,
                    21,
                    42,
                    30,
                    36,
                    20,
                    65,
                    31,
                    49,
                    24,
                    50,
                    27,
                    29,
                    31,
                    49,
                    31,
                    50,
                    51,
                    27,
                    67,
                    54,
                    43,
                    68,
                    32,
                    47,
                    60,
                    60,
                    45,
                    23,
                    49,
                    46,
                    21,
                    55,
                    22,
                    34,
                    50,
                    68,
                    40,
                    32,
                    47,
                    27,
                    23,
                    49,
                    21,
                    66,
                    19,
                    38,
                    18,
                    19,
                    63,
                    49,
                    51,
                    50,
                    38,
                    40,
                    23,
                    31,
                    25,
                    31,
                    29,
                    44,
                    35,
                    57,
                    28,
                    32,
                    32,
                    34,
                    44,
                    38,
                    47,
                    27,
                    30,
                    30,
                    56,
                    29,
                    31,
                    36,
                    33,
                    36,
                    52,
                    30,
                    37,
                    32,
                    29,
                    41,
                    54,
                    41,
                    36,
                    34,
                    32,
                    38,
                    47,
                    35,
                    45
                  ],
                  "y": [
                    16,
                    16,
                    17,
                    17,
                    18,
                    18,
                    19,
                    19,
                    20,
                    20,
                    21,
                    23,
                    25,
                    28,
                    28,
                    29,
                    29,
                    30,
                    33,
                    33,
                    34,
                    34,
                    37,
                    37,
                    38,
                    39,
                    39,
                    39,
                    40,
                    40,
                    40,
                    40,
                    42,
                    43,
                    43,
                    44,
                    46,
                    47,
                    47,
                    48,
                    48,
                    48,
                    49,
                    50,
                    50,
                    54,
                    54,
                    54,
                    54,
                    54,
                    57,
                    57,
                    58,
                    58,
                    59,
                    60,
                    60,
                    60,
                    60,
                    62,
                    62,
                    62,
                    63,
                    63,
                    64,
                    65,
                    65,
                    65,
                    65,
                    67,
                    67,
                    67,
                    69,
                    70,
                    70,
                    72,
                    72,
                    73,
                    73,
                    74,
                    75,
                    76,
                    76,
                    77,
                    78,
                    78,
                    78,
                    78,
                    78,
                    78,
                    78,
                    79,
                    79,
                    81,
                    85,
                    86,
                    87,
                    88,
                    88,
                    97,
                    97,
                    98,
                    99,
                    101,
                    103,
                    103,
                    103,
                    103,
                    113,
                    120,
                    120,
                    126
                  ],
                  "z": [
                    6,
                    77,
                    40,
                    76,
                    6,
                    94,
                    72,
                    99,
                    15,
                    77,
                    35,
                    98,
                    5,
                    14,
                    32,
                    31,
                    87,
                    73,
                    14,
                    81,
                    17,
                    73,
                    26,
                    75,
                    35,
                    61,
                    28,
                    65,
                    55,
                    47,
                    42,
                    42,
                    52,
                    54,
                    45,
                    50,
                    51,
                    52,
                    59,
                    50,
                    48,
                    47,
                    42,
                    49,
                    56,
                    53,
                    52,
                    42,
                    44,
                    57,
                    58,
                    55,
                    60,
                    46,
                    55,
                    40,
                    42,
                    47,
                    50,
                    41,
                    48,
                    42,
                    50,
                    54,
                    42,
                    48,
                    50,
                    43,
                    59,
                    43,
                    57,
                    40,
                    58,
                    29,
                    77,
                    34,
                    71,
                    88,
                    7,
                    72,
                    5,
                    40,
                    87,
                    74,
                    22,
                    20,
                    76,
                    16,
                    89,
                    78,
                    73,
                    35,
                    83,
                    93,
                    75,
                    95,
                    27,
                    13,
                    86,
                    32,
                    86,
                    88,
                    39,
                    24,
                    17,
                    85,
                    23,
                    69,
                    91,
                    16,
                    79,
                    28
                  ]
                },
                {
                  "marker": {
                    "color": "black",
                    "colorbar": {
                      "len": 0.4,
                      "thickness": 12,
                      "x": -0.25
                    },
                    "line": {
                      "color": "white",
                      "width": 2
                    },
                    "size": 6,
                    "symbol": "x"
                  },
                  "mode": "markers",
                  "name": "Centroids",
                  "type": "scatter3d",
                  "x": [
                    54.059999999999995,
                    32.6923076923077,
                    25.25,
                    41.64705882352941,
                    33.39622641509435
                  ],
                  "y": [
                    40.460000000000036,
                    86.53846153846155,
                    25.833333333333364,
                    88.73529411764707,
                    58.056603773584904
                  ],
                  "z": [
                    36.71999999999997,
                    82.12820512820511,
                    76.91666666666666,
                    16.76470588235292,
                    48.77358490566038
                  ]
                }
              ],
              "layout": {
                "coloraxis": {
                  "colorbar": {
                    "title": {
                      "text": "Cluster"
                    }
                  },
                  "colorscale": [
                    [
                      0,
                      "#0d0887"
                    ],
                    [
                      0.1111111111111111,
                      "#46039f"
                    ],
                    [
                      0.2222222222222222,
                      "#7201a8"
                    ],
                    [
                      0.3333333333333333,
                      "#9c179e"
                    ],
                    [
                      0.4444444444444444,
                      "#bd3786"
                    ],
                    [
                      0.5555555555555556,
                      "#d8576b"
                    ],
                    [
                      0.6666666666666666,
                      "#ed7953"
                    ],
                    [
                      0.7777777777777778,
                      "#fb9f3a"
                    ],
                    [
                      0.8888888888888888,
                      "#fdca26"
                    ],
                    [
                      1,
                      "#f0f921"
                    ]
                  ]
                },
                "height": 800,
                "legend": {
                  "bgcolor": "rgba(255,255,255,0.6)",
                  "bordercolor": "gray",
                  "borderwidth": 1,
                  "x": 1.15,
                  "y": 0.95
                },
                "scene": {
                  "domain": {
                    "x": [
                      0,
                      1
                    ],
                    "y": [
                      0,
                      1
                    ]
                  },
                  "xaxis": {
                    "title": {
                      "text": "Age"
                    }
                  },
                  "yaxis": {
                    "title": {
                      "text": "Annual Income"
                    }
                  },
                  "zaxis": {
                    "title": {
                      "text": "Spending Score"
                    }
                  }
                },
                "template": {
                  "data": {
                    "bar": [
                      {
                        "error_x": {
                          "color": "#2a3f5f"
                        },
                        "error_y": {
                          "color": "#2a3f5f"
                        },
                        "marker": {
                          "line": {
                            "color": "#E5ECF6",
                            "width": 0.5
                          },
                          "pattern": {
                            "fillmode": "overlay",
                            "size": 10,
                            "solidity": 0.2
                          }
                        },
                        "type": "bar"
                      }
                    ],
                    "barpolar": [
                      {
                        "marker": {
                          "line": {
                            "color": "#E5ECF6",
                            "width": 0.5
                          },
                          "pattern": {
                            "fillmode": "overlay",
                            "size": 10,
                            "solidity": 0.2
                          }
                        },
                        "type": "barpolar"
                      }
                    ],
                    "carpet": [
                      {
                        "aaxis": {
                          "endlinecolor": "#2a3f5f",
                          "gridcolor": "white",
                          "linecolor": "white",
                          "minorgridcolor": "white",
                          "startlinecolor": "#2a3f5f"
                        },
                        "baxis": {
                          "endlinecolor": "#2a3f5f",
                          "gridcolor": "white",
                          "linecolor": "white",
                          "minorgridcolor": "white",
                          "startlinecolor": "#2a3f5f"
                        },
                        "type": "carpet"
                      }
                    ],
                    "choropleth": [
                      {
                        "colorbar": {
                          "outlinewidth": 0,
                          "ticks": ""
                        },
                        "type": "choropleth"
                      }
                    ],
                    "contour": [
                      {
                        "colorbar": {
                          "outlinewidth": 0,
                          "ticks": ""
                        },
                        "colorscale": [
                          [
                            0,
                            "#0d0887"
                          ],
                          [
                            0.1111111111111111,
                            "#46039f"
                          ],
                          [
                            0.2222222222222222,
                            "#7201a8"
                          ],
                          [
                            0.3333333333333333,
                            "#9c179e"
                          ],
                          [
                            0.4444444444444444,
                            "#bd3786"
                          ],
                          [
                            0.5555555555555556,
                            "#d8576b"
                          ],
                          [
                            0.6666666666666666,
                            "#ed7953"
                          ],
                          [
                            0.7777777777777778,
                            "#fb9f3a"
                          ],
                          [
                            0.8888888888888888,
                            "#fdca26"
                          ],
                          [
                            1,
                            "#f0f921"
                          ]
                        ],
                        "type": "contour"
                      }
                    ],
                    "contourcarpet": [
                      {
                        "colorbar": {
                          "outlinewidth": 0,
                          "ticks": ""
                        },
                        "type": "contourcarpet"
                      }
                    ],
                    "heatmap": [
                      {
                        "colorbar": {
                          "outlinewidth": 0,
                          "ticks": ""
                        },
                        "colorscale": [
                          [
                            0,
                            "#0d0887"
                          ],
                          [
                            0.1111111111111111,
                            "#46039f"
                          ],
                          [
                            0.2222222222222222,
                            "#7201a8"
                          ],
                          [
                            0.3333333333333333,
                            "#9c179e"
                          ],
                          [
                            0.4444444444444444,
                            "#bd3786"
                          ],
                          [
                            0.5555555555555556,
                            "#d8576b"
                          ],
                          [
                            0.6666666666666666,
                            "#ed7953"
                          ],
                          [
                            0.7777777777777778,
                            "#fb9f3a"
                          ],
                          [
                            0.8888888888888888,
                            "#fdca26"
                          ],
                          [
                            1,
                            "#f0f921"
                          ]
                        ],
                        "type": "heatmap"
                      }
                    ],
                    "heatmapgl": [
                      {
                        "colorbar": {
                          "outlinewidth": 0,
                          "ticks": ""
                        },
                        "colorscale": [
                          [
                            0,
                            "#0d0887"
                          ],
                          [
                            0.1111111111111111,
                            "#46039f"
                          ],
                          [
                            0.2222222222222222,
                            "#7201a8"
                          ],
                          [
                            0.3333333333333333,
                            "#9c179e"
                          ],
                          [
                            0.4444444444444444,
                            "#bd3786"
                          ],
                          [
                            0.5555555555555556,
                            "#d8576b"
                          ],
                          [
                            0.6666666666666666,
                            "#ed7953"
                          ],
                          [
                            0.7777777777777778,
                            "#fb9f3a"
                          ],
                          [
                            0.8888888888888888,
                            "#fdca26"
                          ],
                          [
                            1,
                            "#f0f921"
                          ]
                        ],
                        "type": "heatmapgl"
                      }
                    ],
                    "histogram": [
                      {
                        "marker": {
                          "pattern": {
                            "fillmode": "overlay",
                            "size": 10,
                            "solidity": 0.2
                          }
                        },
                        "type": "histogram"
                      }
                    ],
                    "histogram2d": [
                      {
                        "colorbar": {
                          "outlinewidth": 0,
                          "ticks": ""
                        },
                        "colorscale": [
                          [
                            0,
                            "#0d0887"
                          ],
                          [
                            0.1111111111111111,
                            "#46039f"
                          ],
                          [
                            0.2222222222222222,
                            "#7201a8"
                          ],
                          [
                            0.3333333333333333,
                            "#9c179e"
                          ],
                          [
                            0.4444444444444444,
                            "#bd3786"
                          ],
                          [
                            0.5555555555555556,
                            "#d8576b"
                          ],
                          [
                            0.6666666666666666,
                            "#ed7953"
                          ],
                          [
                            0.7777777777777778,
                            "#fb9f3a"
                          ],
                          [
                            0.8888888888888888,
                            "#fdca26"
                          ],
                          [
                            1,
                            "#f0f921"
                          ]
                        ],
                        "type": "histogram2d"
                      }
                    ],
                    "histogram2dcontour": [
                      {
                        "colorbar": {
                          "outlinewidth": 0,
                          "ticks": ""
                        },
                        "colorscale": [
                          [
                            0,
                            "#0d0887"
                          ],
                          [
                            0.1111111111111111,
                            "#46039f"
                          ],
                          [
                            0.2222222222222222,
                            "#7201a8"
                          ],
                          [
                            0.3333333333333333,
                            "#9c179e"
                          ],
                          [
                            0.4444444444444444,
                            "#bd3786"
                          ],
                          [
                            0.5555555555555556,
                            "#d8576b"
                          ],
                          [
                            0.6666666666666666,
                            "#ed7953"
                          ],
                          [
                            0.7777777777777778,
                            "#fb9f3a"
                          ],
                          [
                            0.8888888888888888,
                            "#fdca26"
                          ],
                          [
                            1,
                            "#f0f921"
                          ]
                        ],
                        "type": "histogram2dcontour"
                      }
                    ],
                    "mesh3d": [
                      {
                        "colorbar": {
                          "outlinewidth": 0,
                          "ticks": ""
                        },
                        "type": "mesh3d"
                      }
                    ],
                    "parcoords": [
                      {
                        "line": {
                          "colorbar": {
                            "outlinewidth": 0,
                            "ticks": ""
                          }
                        },
                        "type": "parcoords"
                      }
                    ],
                    "pie": [
                      {
                        "automargin": true,
                        "type": "pie"
                      }
                    ],
                    "scatter": [
                      {
                        "fillpattern": {
                          "fillmode": "overlay",
                          "size": 10,
                          "solidity": 0.2
                        },
                        "type": "scatter"
                      }
                    ],
                    "scatter3d": [
                      {
                        "line": {
                          "colorbar": {
                            "outlinewidth": 0,
                            "ticks": ""
                          }
                        },
                        "marker": {
                          "colorbar": {
                            "outlinewidth": 0,
                            "ticks": ""
                          }
                        },
                        "type": "scatter3d"
                      }
                    ],
                    "scattercarpet": [
                      {
                        "marker": {
                          "colorbar": {
                            "outlinewidth": 0,
                            "ticks": ""
                          }
                        },
                        "type": "scattercarpet"
                      }
                    ],
                    "scattergeo": [
                      {
                        "marker": {
                          "colorbar": {
                            "outlinewidth": 0,
                            "ticks": ""
                          }
                        },
                        "type": "scattergeo"
                      }
                    ],
                    "scattergl": [
                      {
                        "marker": {
                          "colorbar": {
                            "outlinewidth": 0,
                            "ticks": ""
                          }
                        },
                        "type": "scattergl"
                      }
                    ],
                    "scattermapbox": [
                      {
                        "marker": {
                          "colorbar": {
                            "outlinewidth": 0,
                            "ticks": ""
                          }
                        },
                        "type": "scattermapbox"
                      }
                    ],
                    "scatterpolar": [
                      {
                        "marker": {
                          "colorbar": {
                            "outlinewidth": 0,
                            "ticks": ""
                          }
                        },
                        "type": "scatterpolar"
                      }
                    ],
                    "scatterpolargl": [
                      {
                        "marker": {
                          "colorbar": {
                            "outlinewidth": 0,
                            "ticks": ""
                          }
                        },
                        "type": "scatterpolargl"
                      }
                    ],
                    "scatterternary": [
                      {
                        "marker": {
                          "colorbar": {
                            "outlinewidth": 0,
                            "ticks": ""
                          }
                        },
                        "type": "scatterternary"
                      }
                    ],
                    "surface": [
                      {
                        "colorbar": {
                          "outlinewidth": 0,
                          "ticks": ""
                        },
                        "colorscale": [
                          [
                            0,
                            "#0d0887"
                          ],
                          [
                            0.1111111111111111,
                            "#46039f"
                          ],
                          [
                            0.2222222222222222,
                            "#7201a8"
                          ],
                          [
                            0.3333333333333333,
                            "#9c179e"
                          ],
                          [
                            0.4444444444444444,
                            "#bd3786"
                          ],
                          [
                            0.5555555555555556,
                            "#d8576b"
                          ],
                          [
                            0.6666666666666666,
                            "#ed7953"
                          ],
                          [
                            0.7777777777777778,
                            "#fb9f3a"
                          ],
                          [
                            0.8888888888888888,
                            "#fdca26"
                          ],
                          [
                            1,
                            "#f0f921"
                          ]
                        ],
                        "type": "surface"
                      }
                    ],
                    "table": [
                      {
                        "cells": {
                          "fill": {
                            "color": "#EBF0F8"
                          },
                          "line": {
                            "color": "white"
                          }
                        },
                        "header": {
                          "fill": {
                            "color": "#C8D4E3"
                          },
                          "line": {
                            "color": "white"
                          }
                        },
                        "type": "table"
                      }
                    ]
                  },
                  "layout": {
                    "annotationdefaults": {
                      "arrowcolor": "#2a3f5f",
                      "arrowhead": 0,
                      "arrowwidth": 1
                    },
                    "autotypenumbers": "strict",
                    "coloraxis": {
                      "colorbar": {
                        "outlinewidth": 0,
                        "ticks": ""
                      }
                    },
                    "colorscale": {
                      "diverging": [
                        [
                          0,
                          "#8e0152"
                        ],
                        [
                          0.1,
                          "#c51b7d"
                        ],
                        [
                          0.2,
                          "#de77ae"
                        ],
                        [
                          0.3,
                          "#f1b6da"
                        ],
                        [
                          0.4,
                          "#fde0ef"
                        ],
                        [
                          0.5,
                          "#f7f7f7"
                        ],
                        [
                          0.6,
                          "#e6f5d0"
                        ],
                        [
                          0.7,
                          "#b8e186"
                        ],
                        [
                          0.8,
                          "#7fbc41"
                        ],
                        [
                          0.9,
                          "#4d9221"
                        ],
                        [
                          1,
                          "#276419"
                        ]
                      ],
                      "sequential": [
                        [
                          0,
                          "#0d0887"
                        ],
                        [
                          0.1111111111111111,
                          "#46039f"
                        ],
                        [
                          0.2222222222222222,
                          "#7201a8"
                        ],
                        [
                          0.3333333333333333,
                          "#9c179e"
                        ],
                        [
                          0.4444444444444444,
                          "#bd3786"
                        ],
                        [
                          0.5555555555555556,
                          "#d8576b"
                        ],
                        [
                          0.6666666666666666,
                          "#ed7953"
                        ],
                        [
                          0.7777777777777778,
                          "#fb9f3a"
                        ],
                        [
                          0.8888888888888888,
                          "#fdca26"
                        ],
                        [
                          1,
                          "#f0f921"
                        ]
                      ],
                      "sequentialminus": [
                        [
                          0,
                          "#0d0887"
                        ],
                        [
                          0.1111111111111111,
                          "#46039f"
                        ],
                        [
                          0.2222222222222222,
                          "#7201a8"
                        ],
                        [
                          0.3333333333333333,
                          "#9c179e"
                        ],
                        [
                          0.4444444444444444,
                          "#bd3786"
                        ],
                        [
                          0.5555555555555556,
                          "#d8576b"
                        ],
                        [
                          0.6666666666666666,
                          "#ed7953"
                        ],
                        [
                          0.7777777777777778,
                          "#fb9f3a"
                        ],
                        [
                          0.8888888888888888,
                          "#fdca26"
                        ],
                        [
                          1,
                          "#f0f921"
                        ]
                      ]
                    },
                    "colorway": [
                      "#636efa",
                      "#EF553B",
                      "#00cc96",
                      "#ab63fa",
                      "#FFA15A",
                      "#19d3f3",
                      "#FF6692",
                      "#B6E880",
                      "#FF97FF",
                      "#FECB52"
                    ],
                    "font": {
                      "color": "#2a3f5f"
                    },
                    "geo": {
                      "bgcolor": "white",
                      "lakecolor": "white",
                      "landcolor": "#E5ECF6",
                      "showlakes": true,
                      "showland": true,
                      "subunitcolor": "white"
                    },
                    "hoverlabel": {
                      "align": "left"
                    },
                    "hovermode": "closest",
                    "mapbox": {
                      "style": "light"
                    },
                    "paper_bgcolor": "white",
                    "plot_bgcolor": "#E5ECF6",
                    "polar": {
                      "angularaxis": {
                        "gridcolor": "white",
                        "linecolor": "white",
                        "ticks": ""
                      },
                      "bgcolor": "#E5ECF6",
                      "radialaxis": {
                        "gridcolor": "white",
                        "linecolor": "white",
                        "ticks": ""
                      }
                    },
                    "scene": {
                      "xaxis": {
                        "backgroundcolor": "#E5ECF6",
                        "gridcolor": "white",
                        "gridwidth": 2,
                        "linecolor": "white",
                        "showbackground": true,
                        "ticks": "",
                        "zerolinecolor": "white"
                      },
                      "yaxis": {
                        "backgroundcolor": "#E5ECF6",
                        "gridcolor": "white",
                        "gridwidth": 2,
                        "linecolor": "white",
                        "showbackground": true,
                        "ticks": "",
                        "zerolinecolor": "white"
                      },
                      "zaxis": {
                        "backgroundcolor": "#E5ECF6",
                        "gridcolor": "white",
                        "gridwidth": 2,
                        "linecolor": "white",
                        "showbackground": true,
                        "ticks": "",
                        "zerolinecolor": "white"
                      }
                    },
                    "shapedefaults": {
                      "line": {
                        "color": "#2a3f5f"
                      }
                    },
                    "ternary": {
                      "aaxis": {
                        "gridcolor": "white",
                        "linecolor": "white",
                        "ticks": ""
                      },
                      "baxis": {
                        "gridcolor": "white",
                        "linecolor": "white",
                        "ticks": ""
                      },
                      "bgcolor": "#E5ECF6",
                      "caxis": {
                        "gridcolor": "white",
                        "linecolor": "white",
                        "ticks": ""
                      }
                    },
                    "title": {
                      "x": 0.05
                    },
                    "xaxis": {
                      "automargin": true,
                      "gridcolor": "white",
                      "linecolor": "white",
                      "ticks": "",
                      "title": {
                        "standoff": 15
                      },
                      "zerolinecolor": "white",
                      "zerolinewidth": 2
                    },
                    "yaxis": {
                      "automargin": true,
                      "gridcolor": "white",
                      "linecolor": "white",
                      "ticks": "",
                      "title": {
                        "standoff": 15
                      },
                      "zerolinecolor": "white",
                      "zerolinewidth": 2
                    }
                  }
                },
                "title": {
                  "text": "3D Customer Segmentation by Cluster and Gender"
                },
                "width": 1000
              }
            }
          },
          "metadata": {},
          "output_type": "display_data"
        }
      ],
      "source": [
        "\n",
        "# New DataFrame\n",
        "df_clusters = pd.DataFrame(X, columns=['Age', 'Annual Income', 'Spending Score'])\n",
        "df_clusters['Cluster'] = Y\n",
        "df_clusters['Gender'] = df['Gender'].values\n",
        "\n",
        "# Main scatter plot\n",
        "fig = px.scatter_3d(\n",
        "    df_clusters,\n",
        "    x='Age',\n",
        "    y='Annual Income',\n",
        "    z='Spending Score',\n",
        "    color='Cluster',\n",
        "    symbol='Gender',\n",
        "    hover_data=['Gender'],\n",
        "    opacity=0.85,\n",
        "    title='3D Customer Segmentation by Cluster and Gender',\n",
        "    width=1000,\n",
        "    height=800\n",
        ")\n",
        "\n",
        "# Centroids\n",
        "centroids = kmeans.cluster_centers_\n",
        "\n",
        "fig.add_trace(\n",
        "    go.Scatter3d(\n",
        "        x=centroids[:, 0],\n",
        "        y=centroids[:, 1],\n",
        "        z=centroids[:, 2],\n",
        "        mode='markers',\n",
        "        marker=dict(\n",
        "            size=10,\n",
        "            color='black',\n",
        "            symbol='x',\n",
        "            line=dict(width=2, color='white')\n",
        "        ),\n",
        "        name='Centroids'\n",
        "    )\n",
        ")\n",
        "\n",
        "for trace in fig.data:\n",
        "    if hasattr(trace, \"marker\") and hasattr(trace.marker, \"colorbar\"):\n",
        "        trace.marker.size = 6\n",
        "        trace.marker.colorbar.len = 0.4\n",
        "        trace.marker.colorbar.thickness = 12\n",
        "        trace.marker.colorbar.x = -0.25\n",
        "\n",
        "fig.layout.legend = dict(\n",
        "    x=1.15,\n",
        "    y=0.95,\n",
        "    bgcolor='rgba(255,255,255,0.6)',\n",
        "    bordercolor='gray',\n",
        "    borderwidth=1\n",
        ")\n",
        "\n",
        "fig.show()\n"
      ]
    },
    {
      "cell_type": "markdown",
      "id": "xnKISFd-FHb5",
      "metadata": {
        "id": "xnKISFd-FHb5"
      },
      "source": [
        "# Insights on the clusters"
      ]
    },
    {
      "cell_type": "code",
      "execution_count": 15,
      "id": "LQVgYqrcr26Z",
      "metadata": {
        "colab": {
          "base_uri": "https://localhost:8080/",
          "height": 206
        },
        "id": "LQVgYqrcr26Z",
        "outputId": "4e3823fc-e13b-4ff4-dde8-658eb62b9caa"
      },
      "outputs": [
        {
          "data": {
            "text/html": [
              "<div>\n",
              "<style scoped>\n",
              "    .dataframe tbody tr th:only-of-type {\n",
              "        vertical-align: middle;\n",
              "    }\n",
              "\n",
              "    .dataframe tbody tr th {\n",
              "        vertical-align: top;\n",
              "    }\n",
              "\n",
              "    .dataframe thead th {\n",
              "        text-align: right;\n",
              "    }\n",
              "</style>\n",
              "<table border=\"1\" class=\"dataframe\">\n",
              "  <thead>\n",
              "    <tr style=\"text-align: right;\">\n",
              "      <th></th>\n",
              "      <th>Age</th>\n",
              "      <th>Income</th>\n",
              "      <th>SpendScore</th>\n",
              "    </tr>\n",
              "  </thead>\n",
              "  <tbody>\n",
              "    <tr>\n",
              "      <th>0</th>\n",
              "      <td>54.060000</td>\n",
              "      <td>40.460000</td>\n",
              "      <td>36.720000</td>\n",
              "    </tr>\n",
              "    <tr>\n",
              "      <th>1</th>\n",
              "      <td>32.692308</td>\n",
              "      <td>86.538462</td>\n",
              "      <td>82.128205</td>\n",
              "    </tr>\n",
              "    <tr>\n",
              "      <th>2</th>\n",
              "      <td>25.250000</td>\n",
              "      <td>25.833333</td>\n",
              "      <td>76.916667</td>\n",
              "    </tr>\n",
              "    <tr>\n",
              "      <th>3</th>\n",
              "      <td>41.647059</td>\n",
              "      <td>88.735294</td>\n",
              "      <td>16.764706</td>\n",
              "    </tr>\n",
              "    <tr>\n",
              "      <th>4</th>\n",
              "      <td>33.396226</td>\n",
              "      <td>58.056604</td>\n",
              "      <td>48.773585</td>\n",
              "    </tr>\n",
              "  </tbody>\n",
              "</table>\n",
              "</div>"
            ],
            "text/plain": [
              "         Age     Income  SpendScore\n",
              "0  54.060000  40.460000   36.720000\n",
              "1  32.692308  86.538462   82.128205\n",
              "2  25.250000  25.833333   76.916667\n",
              "3  41.647059  88.735294   16.764706\n",
              "4  33.396226  58.056604   48.773585"
            ]
          },
          "execution_count": 15,
          "metadata": {},
          "output_type": "execute_result"
        }
      ],
      "source": [
        "centroids = kmeans.cluster_centers_\n",
        "pd.DataFrame(centroids, columns=['Age','Income','SpendScore'])\n"
      ]
    },
    {
      "cell_type": "markdown",
      "id": "l-vu8PsIFK8Z",
      "metadata": {
        "id": "l-vu8PsIFK8Z"
      },
      "source": [
        "# Model Interpretation\n",
        "\n",
        "Cluster 0. Older, low income & low spenders.\n",
        "\n",
        "\n",
        "Cluster 1. Mid-age, average income & spend.\n",
        "\n",
        "\n",
        "Cluster 2. Young, low income, high spend.\n",
        "\n",
        "\n",
        "Cluster 3. Mid-age, high-income but cautious and low spend.\n",
        "\n",
        "\n",
        "Cluster 4. Premium Category, high income & high spend.\n"
      ]
    }
  ],
  "metadata": {
    "colab": {
      "provenance": []
    },
    "kernelspec": {
      "display_name": "base",
      "language": "python",
      "name": "python3"
    },
    "language_info": {
      "codemirror_mode": {
        "name": "ipython",
        "version": 3
      },
      "file_extension": ".py",
      "mimetype": "text/x-python",
      "name": "python",
      "nbconvert_exporter": "python",
      "pygments_lexer": "ipython3",
      "version": "3.12.7"
    }
  },
  "nbformat": 4,
  "nbformat_minor": 5
}
